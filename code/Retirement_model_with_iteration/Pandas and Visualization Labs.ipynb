{
 "cells": [
  {
   "cell_type": "markdown",
   "metadata": {},
   "source": [
    "# Pandas and Visualization Lab Exercises"
   ]
  },
  {
   "cell_type": "markdown",
   "metadata": {},
   "source": [
    "## Pandas"
   ]
  },
  {
   "cell_type": "markdown",
   "metadata": {},
   "source": [
    "### Exercise 1\n",
    "\n",
    "Create a `DataFrame` which has two columns: `Item` and `Price`. The `DataFrame` should have three rows. In the first row, `Item` should be `apple` and price should be `0.75`, and the second row `Item` should be `banana` and price should be `0.42`, and in the third row, `Item` should be `pear` and price should be `0.84`."
   ]
  },
  {
   "cell_type": "code",
   "execution_count": 1,
   "metadata": {},
   "outputs": [
    {
     "data": {
      "text/html": [
       "<div>\n",
       "<style scoped>\n",
       "    .dataframe tbody tr th:only-of-type {\n",
       "        vertical-align: middle;\n",
       "    }\n",
       "\n",
       "    .dataframe tbody tr th {\n",
       "        vertical-align: top;\n",
       "    }\n",
       "\n",
       "    .dataframe thead th {\n",
       "        text-align: right;\n",
       "    }\n",
       "</style>\n",
       "<table border=\"1\" class=\"dataframe\">\n",
       "  <thead>\n",
       "    <tr style=\"text-align: right;\">\n",
       "      <th></th>\n",
       "      <th>Item</th>\n",
       "      <th>Price</th>\n",
       "    </tr>\n",
       "  </thead>\n",
       "  <tbody>\n",
       "    <tr>\n",
       "      <th>0</th>\n",
       "      <td>apple</td>\n",
       "      <td>0.75</td>\n",
       "    </tr>\n",
       "    <tr>\n",
       "      <th>1</th>\n",
       "      <td>banana</td>\n",
       "      <td>0.42</td>\n",
       "    </tr>\n",
       "    <tr>\n",
       "      <th>2</th>\n",
       "      <td>pear</td>\n",
       "      <td>0.84</td>\n",
       "    </tr>\n",
       "  </tbody>\n",
       "</table>\n",
       "</div>"
      ],
      "text/plain": [
       "     Item  Price\n",
       "0   apple   0.75\n",
       "1  banana   0.42\n",
       "2    pear   0.84"
      ]
     },
     "execution_count": 1,
     "metadata": {},
     "output_type": "execute_result"
    }
   ],
   "source": [
    "import pandas as pd\n",
    "\n",
    "\n",
    "df = pd.DataFrame({\"Item\": [\"apple\", \"banana\", \"pear\"], \"Price\": [0.75, 0.42, 0.84]})\n",
    "df"
   ]
  },
  {
   "cell_type": "markdown",
   "metadata": {},
   "source": [
    "### Exercise 2\n",
    "\n",
    "Using the `DataFrame` from exercise 1, print the min, max, and standard deviation of prices."
   ]
  },
  {
   "cell_type": "code",
   "execution_count": 15,
   "metadata": {},
   "outputs": [
    {
     "name": "stdout",
     "output_type": "stream",
     "text": [
      "Item     apple\n",
      "Price     0.42\n",
      "dtype: object \n",
      "\n",
      "Item     pear\n",
      "Price    0.84\n",
      "dtype: object \n",
      "\n",
      "Price    0.221133\n",
      "dtype: float64\n"
     ]
    },
    {
     "name": "stderr",
     "output_type": "stream",
     "text": [
      "/var/folders/b1/8ygvz1891pb28243s84n4sxm0000gn/T/ipykernel_16539/3650006952.py:3: FutureWarning: Dropping of nuisance columns in DataFrame reductions (with 'numeric_only=None') is deprecated; in a future version this will raise TypeError.  Select only valid columns before calling the reduction.\n",
      "  print(df.std(axis=0))\n"
     ]
    }
   ],
   "source": [
    "print(df.min(), \"\\n\")\n",
    "print(df.max(), \"\\n\")\n",
    "print(df.std(axis=0))"
   ]
  },
  {
   "cell_type": "markdown",
   "metadata": {},
   "source": [
    "### Exercise 3\n",
    "\n",
    "Using the `DataFrame` from exercise 1, add a new `Quantity` column which is `10` for `apple`, `30` for `banana`, and `5` for `pear`. Then construct a `Revenue` variable as price multiplied by quantity.  "
   ]
  },
  {
   "cell_type": "code",
   "execution_count": 16,
   "metadata": {},
   "outputs": [
    {
     "data": {
      "text/html": [
       "<div>\n",
       "<style scoped>\n",
       "    .dataframe tbody tr th:only-of-type {\n",
       "        vertical-align: middle;\n",
       "    }\n",
       "\n",
       "    .dataframe tbody tr th {\n",
       "        vertical-align: top;\n",
       "    }\n",
       "\n",
       "    .dataframe thead th {\n",
       "        text-align: right;\n",
       "    }\n",
       "</style>\n",
       "<table border=\"1\" class=\"dataframe\">\n",
       "  <thead>\n",
       "    <tr style=\"text-align: right;\">\n",
       "      <th></th>\n",
       "      <th>Item</th>\n",
       "      <th>Price</th>\n",
       "      <th>Quantity</th>\n",
       "      <th>Revenue</th>\n",
       "    </tr>\n",
       "  </thead>\n",
       "  <tbody>\n",
       "    <tr>\n",
       "      <th>0</th>\n",
       "      <td>apple</td>\n",
       "      <td>0.75</td>\n",
       "      <td>10</td>\n",
       "      <td>7.5</td>\n",
       "    </tr>\n",
       "    <tr>\n",
       "      <th>1</th>\n",
       "      <td>banana</td>\n",
       "      <td>0.42</td>\n",
       "      <td>30</td>\n",
       "      <td>12.6</td>\n",
       "    </tr>\n",
       "    <tr>\n",
       "      <th>2</th>\n",
       "      <td>pear</td>\n",
       "      <td>0.84</td>\n",
       "      <td>5</td>\n",
       "      <td>4.2</td>\n",
       "    </tr>\n",
       "  </tbody>\n",
       "</table>\n",
       "</div>"
      ],
      "text/plain": [
       "     Item  Price  Quantity  Revenue\n",
       "0   apple   0.75        10      7.5\n",
       "1  banana   0.42        30     12.6\n",
       "2    pear   0.84         5      4.2"
      ]
     },
     "execution_count": 16,
     "metadata": {},
     "output_type": "execute_result"
    }
   ],
   "source": [
    "df[\"Quantity\"] = [10, 30, 5]\n",
    "df[\"Revenue\"] = df[\"Price\"] * df[\"Quantity\"]\n",
    "\n",
    "df"
   ]
  },
  {
   "cell_type": "markdown",
   "metadata": {},
   "source": [
    "### Exercise 4\n",
    "\n",
    "From the same `DataFrame`, select the `Item` whose `Quantity` is `30`. Answer should be just `banana` and not the entire row containing `banana`."
   ]
  },
  {
   "cell_type": "code",
   "execution_count": 21,
   "metadata": {},
   "outputs": [
    {
     "data": {
      "text/plain": [
       "1    banana\n",
       "Name: Item, dtype: object"
      ]
     },
     "execution_count": 21,
     "metadata": {},
     "output_type": "execute_result"
    }
   ],
   "source": [
    "df[df[\"Quantity\"] == 30][\"Item\"]"
   ]
  },
  {
   "cell_type": "markdown",
   "metadata": {},
   "source": [
    "## Pandas Styling"
   ]
  },
  {
   "cell_type": "markdown",
   "metadata": {},
   "source": [
    "### Exercise 1\n",
    "\n",
    "Continue using the `DataFrame` from the first section. Highlight the minimum value in each of the columns."
   ]
  },
  {
   "cell_type": "code",
   "execution_count": 26,
   "metadata": {},
   "outputs": [
    {
     "data": {
      "text/html": [
       "<style type=\"text/css\">\n",
       "#T_192c8_row1_col1, #T_192c8_row2_col2, #T_192c8_row2_col3 {\n",
       "  background-color: red;\n",
       "}\n",
       "</style>\n",
       "<table id=\"T_192c8_\">\n",
       "  <thead>\n",
       "    <tr>\n",
       "      <th class=\"blank level0\" >&nbsp;</th>\n",
       "      <th class=\"col_heading level0 col0\" >Item</th>\n",
       "      <th class=\"col_heading level0 col1\" >Price</th>\n",
       "      <th class=\"col_heading level0 col2\" >Quantity</th>\n",
       "      <th class=\"col_heading level0 col3\" >Revenue</th>\n",
       "    </tr>\n",
       "  </thead>\n",
       "  <tbody>\n",
       "    <tr>\n",
       "      <th id=\"T_192c8_level0_row0\" class=\"row_heading level0 row0\" >0</th>\n",
       "      <td id=\"T_192c8_row0_col0\" class=\"data row0 col0\" >apple</td>\n",
       "      <td id=\"T_192c8_row0_col1\" class=\"data row0 col1\" >0.750000</td>\n",
       "      <td id=\"T_192c8_row0_col2\" class=\"data row0 col2\" >10</td>\n",
       "      <td id=\"T_192c8_row0_col3\" class=\"data row0 col3\" >7.500000</td>\n",
       "    </tr>\n",
       "    <tr>\n",
       "      <th id=\"T_192c8_level0_row1\" class=\"row_heading level0 row1\" >1</th>\n",
       "      <td id=\"T_192c8_row1_col0\" class=\"data row1 col0\" >banana</td>\n",
       "      <td id=\"T_192c8_row1_col1\" class=\"data row1 col1\" >0.420000</td>\n",
       "      <td id=\"T_192c8_row1_col2\" class=\"data row1 col2\" >30</td>\n",
       "      <td id=\"T_192c8_row1_col3\" class=\"data row1 col3\" >12.600000</td>\n",
       "    </tr>\n",
       "    <tr>\n",
       "      <th id=\"T_192c8_level0_row2\" class=\"row_heading level0 row2\" >2</th>\n",
       "      <td id=\"T_192c8_row2_col0\" class=\"data row2 col0\" >pear</td>\n",
       "      <td id=\"T_192c8_row2_col1\" class=\"data row2 col1\" >0.840000</td>\n",
       "      <td id=\"T_192c8_row2_col2\" class=\"data row2 col2\" >5</td>\n",
       "      <td id=\"T_192c8_row2_col3\" class=\"data row2 col3\" >4.200000</td>\n",
       "    </tr>\n",
       "  </tbody>\n",
       "</table>\n"
      ],
      "text/plain": [
       "<pandas.io.formats.style.Styler at 0x7fc7ccdd35b0>"
      ]
     },
     "execution_count": 26,
     "metadata": {},
     "output_type": "execute_result"
    }
   ],
   "source": [
    "df.style.highlight_min(axis=0, props='background-color:red;', subset=['Price','Quantity', \"Revenue\"])"
   ]
  },
  {
   "cell_type": "markdown",
   "metadata": {},
   "source": [
    "### Exercise 2\n",
    "\n",
    "Continue with the same `DataFrame`. Give the `DataFrame` a new background color and text color, whichever colors you prefer."
   ]
  },
  {
   "cell_type": "code",
   "execution_count": 27,
   "metadata": {},
   "outputs": [
    {
     "data": {
      "text/html": [
       "<style type=\"text/css\">\n",
       "#T_bf287_row0_col0, #T_bf287_row0_col1, #T_bf287_row0_col2, #T_bf287_row0_col3, #T_bf287_row1_col0, #T_bf287_row1_col1, #T_bf287_row1_col2, #T_bf287_row1_col3, #T_bf287_row2_col0, #T_bf287_row2_col1, #T_bf287_row2_col2, #T_bf287_row2_col3 {\n",
       "  background-color: black;\n",
       "  color: green;\n",
       "}\n",
       "</style>\n",
       "<table id=\"T_bf287_\">\n",
       "  <thead>\n",
       "    <tr>\n",
       "      <th class=\"blank level0\" >&nbsp;</th>\n",
       "      <th class=\"col_heading level0 col0\" >Item</th>\n",
       "      <th class=\"col_heading level0 col1\" >Price</th>\n",
       "      <th class=\"col_heading level0 col2\" >Quantity</th>\n",
       "      <th class=\"col_heading level0 col3\" >Revenue</th>\n",
       "    </tr>\n",
       "  </thead>\n",
       "  <tbody>\n",
       "    <tr>\n",
       "      <th id=\"T_bf287_level0_row0\" class=\"row_heading level0 row0\" >0</th>\n",
       "      <td id=\"T_bf287_row0_col0\" class=\"data row0 col0\" >apple</td>\n",
       "      <td id=\"T_bf287_row0_col1\" class=\"data row0 col1\" >0.750000</td>\n",
       "      <td id=\"T_bf287_row0_col2\" class=\"data row0 col2\" >10</td>\n",
       "      <td id=\"T_bf287_row0_col3\" class=\"data row0 col3\" >7.500000</td>\n",
       "    </tr>\n",
       "    <tr>\n",
       "      <th id=\"T_bf287_level0_row1\" class=\"row_heading level0 row1\" >1</th>\n",
       "      <td id=\"T_bf287_row1_col0\" class=\"data row1 col0\" >banana</td>\n",
       "      <td id=\"T_bf287_row1_col1\" class=\"data row1 col1\" >0.420000</td>\n",
       "      <td id=\"T_bf287_row1_col2\" class=\"data row1 col2\" >30</td>\n",
       "      <td id=\"T_bf287_row1_col3\" class=\"data row1 col3\" >12.600000</td>\n",
       "    </tr>\n",
       "    <tr>\n",
       "      <th id=\"T_bf287_level0_row2\" class=\"row_heading level0 row2\" >2</th>\n",
       "      <td id=\"T_bf287_row2_col0\" class=\"data row2 col0\" >pear</td>\n",
       "      <td id=\"T_bf287_row2_col1\" class=\"data row2 col1\" >0.840000</td>\n",
       "      <td id=\"T_bf287_row2_col2\" class=\"data row2 col2\" >5</td>\n",
       "      <td id=\"T_bf287_row2_col3\" class=\"data row2 col3\" >4.200000</td>\n",
       "    </tr>\n",
       "  </tbody>\n",
       "</table>\n"
      ],
      "text/plain": [
       "<pandas.io.formats.style.Styler at 0x7fc7ccdbc850>"
      ]
     },
     "execution_count": 27,
     "metadata": {},
     "output_type": "execute_result"
    }
   ],
   "source": [
    "df.style.set_properties(**{'background-color': 'black',\n",
    "                           'color': 'green'})"
   ]
  },
  {
   "cell_type": "markdown",
   "metadata": {},
   "source": [
    "### Exercise 3\n",
    "\n",
    "With the same `DataFrame`, highlight any values which are less than or equal to 5."
   ]
  },
  {
   "cell_type": "code",
   "execution_count": 31,
   "metadata": {},
   "outputs": [
    {
     "data": {
      "text/html": [
       "<style type=\"text/css\">\n",
       "#T_a6a4e_row0_col1, #T_a6a4e_row1_col1, #T_a6a4e_row2_col1, #T_a6a4e_row2_col2, #T_a6a4e_row2_col3 {\n",
       "  background: green;\n",
       "}\n",
       "</style>\n",
       "<table id=\"T_a6a4e_\">\n",
       "  <thead>\n",
       "    <tr>\n",
       "      <th class=\"blank level0\" >&nbsp;</th>\n",
       "      <th class=\"col_heading level0 col0\" >Item</th>\n",
       "      <th class=\"col_heading level0 col1\" >Price</th>\n",
       "      <th class=\"col_heading level0 col2\" >Quantity</th>\n",
       "      <th class=\"col_heading level0 col3\" >Revenue</th>\n",
       "    </tr>\n",
       "  </thead>\n",
       "  <tbody>\n",
       "    <tr>\n",
       "      <th id=\"T_a6a4e_level0_row0\" class=\"row_heading level0 row0\" >0</th>\n",
       "      <td id=\"T_a6a4e_row0_col0\" class=\"data row0 col0\" >apple</td>\n",
       "      <td id=\"T_a6a4e_row0_col1\" class=\"data row0 col1\" >0.750000</td>\n",
       "      <td id=\"T_a6a4e_row0_col2\" class=\"data row0 col2\" >10</td>\n",
       "      <td id=\"T_a6a4e_row0_col3\" class=\"data row0 col3\" >7.500000</td>\n",
       "    </tr>\n",
       "    <tr>\n",
       "      <th id=\"T_a6a4e_level0_row1\" class=\"row_heading level0 row1\" >1</th>\n",
       "      <td id=\"T_a6a4e_row1_col0\" class=\"data row1 col0\" >banana</td>\n",
       "      <td id=\"T_a6a4e_row1_col1\" class=\"data row1 col1\" >0.420000</td>\n",
       "      <td id=\"T_a6a4e_row1_col2\" class=\"data row1 col2\" >30</td>\n",
       "      <td id=\"T_a6a4e_row1_col3\" class=\"data row1 col3\" >12.600000</td>\n",
       "    </tr>\n",
       "    <tr>\n",
       "      <th id=\"T_a6a4e_level0_row2\" class=\"row_heading level0 row2\" >2</th>\n",
       "      <td id=\"T_a6a4e_row2_col0\" class=\"data row2 col0\" >pear</td>\n",
       "      <td id=\"T_a6a4e_row2_col1\" class=\"data row2 col1\" >0.840000</td>\n",
       "      <td id=\"T_a6a4e_row2_col2\" class=\"data row2 col2\" >5</td>\n",
       "      <td id=\"T_a6a4e_row2_col3\" class=\"data row2 col3\" >4.200000</td>\n",
       "    </tr>\n",
       "  </tbody>\n",
       "</table>\n"
      ],
      "text/plain": [
       "<pandas.io.formats.style.Styler at 0x7fc7ccdd3a00>"
      ]
     },
     "execution_count": 31,
     "metadata": {},
     "output_type": "execute_result"
    }
   ],
   "source": [
    "df.style.apply(lambda x: [\"background: green\" if v <= 5 else \"\" for v in x], axis = 0, subset=['Price','Quantity', \"Revenue\"])"
   ]
  },
  {
   "cell_type": "markdown",
   "metadata": {},
   "source": [
    "### Exercise 4\n",
    "\n",
    "Create light green bar graphs inside the `Quantity` column only."
   ]
  },
  {
   "cell_type": "code",
   "execution_count": 42,
   "metadata": {},
   "outputs": [
    {
     "data": {
      "image/png": "[encoded data removed]",
      "text/plain": [
       "<Figure size 432x288 with 1 Axes>"
      ]
     },
     "metadata": {
      "needs_background": "light"
     },
     "output_type": "display_data"
    }
   ],
   "source": [
    "ax = df.plot.bar(x=\"Item\", y='Quantity', color=\"lightgreen\")"
   ]
  },
  {
   "cell_type": "markdown",
   "metadata": {},
   "source": [
    "## Graphics\n",
    "\n",
    "### Exercise 1\n",
    "\n",
    "Using the prior `DataFrame`, create a scatter plot of price versus quantity. "
   ]
  },
  {
   "cell_type": "code",
   "execution_count": 44,
   "metadata": {},
   "outputs": [
    {
     "data": {
      "text/plain": [
       "<AxesSubplot:xlabel='Price', ylabel='Quantity'>"
      ]
     },
     "execution_count": 44,
     "metadata": {},
     "output_type": "execute_result"
    },
    {
     "data": {
      "image/png": "[encoded data removed]",
      "text/plain": [
       "<Figure size 432x288 with 1 Axes>"
      ]
     },
     "metadata": {
      "needs_background": "light"
     },
     "output_type": "display_data"
    }
   ],
   "source": [
    "df.plot(kind='scatter', x=\"Price\", y=\"Quantity\")"
   ]
  },
  {
   "cell_type": "markdown",
   "metadata": {},
   "source": [
    "### Exercise 2\n",
    "\n",
    "Still using the prior `DataFrame`, create a box and whisker plot showing the distribution of `Revenue`."
   ]
  },
  {
   "cell_type": "code",
   "execution_count": 45,
   "metadata": {},
   "outputs": [
    {
     "data": {
      "text/plain": [
       "<AxesSubplot:>"
      ]
     },
     "execution_count": 45,
     "metadata": {},
     "output_type": "execute_result"
    },
    {
     "data": {
      "image/png": "[encoded data removed]",
      "text/plain": [
       "<Figure size 432x288 with 1 Axes>"
      ]
     },
     "metadata": {
      "needs_background": "light"
     },
     "output_type": "display_data"
    }
   ],
   "source": [
    "df.boxplot(column='Revenue')"
   ]
  },
  {
   "cell_type": "markdown",
   "metadata": {},
   "source": [
    "### Exercise 3\n",
    "\n",
    "Construct a new `DataFrame` using the fruits values. The number given in the tuple represents the quantity of the fruit. Form a pie chart representing the frequency of the fruits. Form histogram and density plots representing the distribution of the quantities."
   ]
  },
  {
   "cell_type": "code",
   "execution_count": 58,
   "metadata": {},
   "outputs": [
    {
     "data": {
      "text/plain": [
       "<AxesSubplot:ylabel='Quantity'>"
      ]
     },
     "execution_count": 58,
     "metadata": {},
     "output_type": "execute_result"
    },
    {
     "data": {
      "image/png": "[encoded data removed]",
      "text/plain": [
       "<Figure size 432x288 with 1 Axes>"
      ]
     },
     "metadata": {},
     "output_type": "display_data"
    }
   ],
   "source": [
    "fruits = [\n",
    "    ('apple', 7),\n",
    "    ('pear', 2),\n",
    "    ('banana', 2),\n",
    "]\n",
    "df = pd.DataFrame(fruits, columns =['Fruit', 'Quantity']).set_index(\"Fruit\")\n",
    "df.plot.pie(y=\"Quantity\", autopct='%1.1f%%')"
   ]
  }
 ],
 "metadata": {
  "interpreter": {
   "hash": "1ee38ef4a5a9feb55287fd749643f13d043cb0a7addaab2a9c224cbe137c0062"
  },
  "kernelspec": {
   "display_name": "Python 3.8.7 64-bit",
   "language": "python",
   "name": "python3"
  },
  "language_info": {
   "codemirror_mode": {
    "name": "ipython",
    "version": 3
   },
   "file_extension": ".py",
   "mimetype": "text/x-python",
   "name": "python",
   "nbconvert_exporter": "python",
   "pygments_lexer": "ipython3",
   "version": "3.8.7"
  }
 },
 "nbformat": 4,
 "nbformat_minor": 4
}
