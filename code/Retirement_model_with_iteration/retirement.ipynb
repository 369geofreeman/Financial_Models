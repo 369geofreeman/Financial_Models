{
 "cells": [
  {
   "cell_type": "markdown",
   "metadata": {},
   "source": [
    "# Input here"
   ]
  },
  {
   "cell_type": "code",
   "execution_count": 12,
   "metadata": {},
   "outputs": [],
   "source": [
    "salary = 60000\n",
    "savings_rates = [0.1, 0.25, 0.4]\n",
    "investment_rates = [0.04, 0.05, 0.06]\n",
    "desired_cash = 1500000"
   ]
  },
  {
   "cell_type": "markdown",
   "metadata": {},
   "source": [
    "# Determining cash saved"
   ]
  },
  {
   "cell_type": "code",
   "execution_count": 11,
   "metadata": {},
   "outputs": [],
   "source": [
    "# annual_cash = salary * savings_rates"
   ]
  },
  {
   "cell_type": "markdown",
   "metadata": {},
   "source": [
    "# Years to retirement"
   ]
  },
  {
   "cell_type": "code",
   "execution_count": 15,
   "metadata": {},
   "outputs": [
    {
     "name": "stdout",
     "output_type": "stream",
     "text": [
      "With a salary of 60000, savings rate of 10.0%, and ivestment rate of 4.0%,\n",
      "Matha has 61.14 years to retirement with >= 1500000\n",
      "\n",
      "With a salary of 60000, savings rate of 25.0%, and ivestment rate of 5.0%,\n",
      "Matha has 36.72 years to retirement with >= 1500000\n",
      "\n",
      "With a salary of 60000, savings rate of 40.0%, and ivestment rate of 6.0%,\n",
      "Matha has 26.74 years to retirement with >= 1500000\n",
      "\n"
     ]
    },
    {
     "name": "stderr",
     "output_type": "stream",
     "text": [
      "/var/folders/b1/8ygvz1891pb28243s84n4sxm0000gn/T/ipykernel_31202/2829407755.py:5: DeprecationWarning: numpy.nper is deprecated and will be removed from NumPy 1.20. Use numpy_financial.nper instead (https://pypi.org/project/numpy-financial/).\n",
      "  years_to_retirement = np.nper(investment_rate, -annual_cash, 0, desired_cash)\n"
     ]
    }
   ],
   "source": [
    "import numpy as np\n",
    "\n",
    "for savings_rate, investment_rate in zip(savings_rates, investment_rates):\n",
    "    annual_cash = salary * savings_rate\n",
    "    years_to_retirement = np.nper(investment_rate, -annual_cash, 0, desired_cash)\n",
    "\n",
    "    print(f\"With a salary of {salary}, savings rate of {savings_rate*100}%, and ivestment rate of {investment_rate*100}%,\")\n",
    "    print(f\"Matha has {years_to_retirement.round(decimals=2)} years to retirement with >= {desired_cash}\\n\")"
   ]
  }
 ],
 "metadata": {
  "interpreter": {
   "hash": "d16c49b1196e77c99acbf9c416ba3d74258d35d533967ba9ca8761b6b8909bf3"
  },
  "kernelspec": {
   "display_name": "Python 3.8.10 ('base')",
   "language": "python",
   "name": "python3"
  },
  "language_info": {
   "codemirror_mode": {
    "name": "ipython",
    "version": 3
   },
   "file_extension": ".py",
   "mimetype": "text/x-python",
   "name": "python",
   "nbconvert_exporter": "python",
   "pygments_lexer": "ipython3",
   "version": "3.8.10"
  },
  "orig_nbformat": 4
 },
 "nbformat": 4,
 "nbformat_minor": 2
}
