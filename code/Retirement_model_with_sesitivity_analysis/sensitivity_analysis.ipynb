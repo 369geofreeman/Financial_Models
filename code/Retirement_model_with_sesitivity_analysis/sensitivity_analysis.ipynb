{
 "cells": [
  {
   "cell_type": "markdown",
   "metadata": {},
   "source": [
    "# Sentsitivity Analysis in Python\n",
    "\n",
    "This guide is organized in the following sections\n",
    "\n",
    "- Sensitivity Analysis Theory\n",
    "- The Hard Way\n",
    "- The Easy Way (use sensitivity package)"
   ]
  },
  {
   "cell_type": "markdown",
   "metadata": {},
   "source": [
    "## What is Sensitivity Analysis?\n",
    "\n",
    "Sensitivity analysis is the process of passing different inputs to a model to see how the outputs change. it differs from Monte Carlo Simulation in that no probability distributions are assigned to the inputs, and typically larger ranges of the inputs are chosen. the purpose of Sensitivity Analysis is to understand how the outputs change over the full range of possible inputs. Sentitivity Analysis does not derive any expected outcome or a probability distribution of outcomes, instead returning a range of possible output variables associated with each set of inputs.\n",
    "\n",
    "The general purpose for Sensitivity Analysis is as follows:\n",
    "\n",
    "For the model given by: \n",
    "$$y = f(x)$$\n",
    "$$X = [x_1,x_2,...x_n]$$\n",
    "\n",
    "Where:\n",
    "\n",
    "- $y$: Model output\n",
    "- $X$: Model input matrix\n",
    "- $x_i$: Value of $ith$ $x$ variable\n",
    "\n",
    "Following the following steps:\n",
    "\n",
    "- Choose a set of values for each $xi$\n",
    "- Take the cartesian product of these values as $[X_1, X_2, ..., X_n]$\n",
    "- For each $Xi$ calculate $yi = f(Xi)$\n",
    "- Store the values of $Xi$ mapped to $yi$\n",
    "- Visualise $yi$ versus $Xi$"
   ]
  },
  {
   "cell_type": "markdown",
   "metadata": {},
   "source": [
    "## How to do Sensitivity Analysis in Python?\n",
    "\n",
    "Abstract algorithms are great, but lets see the code that can make this happen. First we'll import pandas to use later and define a function which represents the model:"
   ]
  },
  {
   "cell_type": "code",
   "execution_count": 1,
   "metadata": {},
   "outputs": [],
   "source": [
    "import pandas as pd\n",
    "\n",
    "\n",
    "def my_model(x_1: int, x_2: int) -> float:\n",
    "    '''\n",
    "    Represents f from above\n",
    "    '''\n",
    "\n",
    "    return x_1 ** x_2"
   ]
  },
  {
   "cell_type": "code",
   "execution_count": 2,
   "metadata": {},
   "outputs": [
    {
     "data": {
      "text/plain": [
       "16"
      ]
     },
     "execution_count": 2,
     "metadata": {},
     "output_type": "execute_result"
    }
   ],
   "source": [
    "y = my_model(2, 4)\n",
    "y"
   ]
  },
  {
   "cell_type": "markdown",
   "metadata": {},
   "source": [
    "Now lets go step by step through the above algorithm. First let's choose a set of values for each $X_i$:"
   ]
  },
  {
   "cell_type": "code",
   "execution_count": 3,
   "metadata": {},
   "outputs": [],
   "source": [
    "x1_values = [10, 20, 30]\n",
    "x2_values = [1, 2, 3]"
   ]
  },
  {
   "cell_type": "markdown",
   "metadata": {},
   "source": [
    "While we can uuse ```itertools.product``` to take care of a cartesian product of an arbitrary number of inputs, a more straightforward approach is to use nested loops. A for loop within a for loop will run with each combination of the inputs"
   ]
  },
  {
   "cell_type": "code",
   "execution_count": 4,
   "metadata": {},
   "outputs": [
    {
     "name": "stdout",
     "output_type": "stream",
     "text": [
      "10 1\n",
      "10 2\n",
      "10 3\n",
      "20 1\n",
      "20 2\n",
      "20 3\n",
      "30 1\n",
      "30 2\n",
      "30 3\n"
     ]
    }
   ],
   "source": [
    "for x1 in x1_values:\n",
    "    for x2 in x2_values:\n",
    "        print(x1, x2)"
   ]
  },
  {
   "cell_type": "markdown",
   "metadata": {},
   "source": [
    "Now we have each $X_i$, we need to calculate $y_i = f(X_i)$:"
   ]
  },
  {
   "cell_type": "code",
   "execution_count": 5,
   "metadata": {},
   "outputs": [
    {
     "name": "stdout",
     "output_type": "stream",
     "text": [
      "10\n",
      "100\n",
      "1000\n",
      "20\n",
      "400\n",
      "8000\n",
      "30\n",
      "900\n",
      "27000\n"
     ]
    }
   ],
   "source": [
    "for x1 in x1_values:\n",
    "    for x2 in x2_values:\n",
    "        y_i = my_model(x1, x2)\n",
    "        print(y_i)"
   ]
  },
  {
   "cell_type": "markdown",
   "metadata": {},
   "source": [
    "Now store the values of $X_i$ mapped to $y_i$:"
   ]
  },
  {
   "cell_type": "code",
   "execution_count": 6,
   "metadata": {},
   "outputs": [
    {
     "data": {
      "text/plain": [
       "[(10, 1, 10),\n",
       " (10, 2, 100),\n",
       " (10, 3, 1000),\n",
       " (20, 1, 20),\n",
       " (20, 2, 400),\n",
       " (20, 3, 8000),\n",
       " (30, 1, 30),\n",
       " (30, 2, 900),\n",
       " (30, 3, 27000)]"
      ]
     },
     "execution_count": 6,
     "metadata": {},
     "output_type": "execute_result"
    }
   ],
   "source": [
    "outputs = []\n",
    "\n",
    "for x1 in x1_values:\n",
    "    for x2 in x2_values:\n",
    "        y_i = my_model(x1, x2)\n",
    "        outputs.append((x1, x2, y_i))\n",
    "\n",
    "outputs"
   ]
  },
  {
   "cell_type": "markdown",
   "metadata": {},
   "source": [
    "Now the last step is ot visualise the result.We can do this with a table format through a ```DataFrame```"
   ]
  },
  {
   "cell_type": "code",
   "execution_count": 12,
   "metadata": {},
   "outputs": [
    {
     "data": {
      "text/html": [
       "<div>\n",
       "<style scoped>\n",
       "    .dataframe tbody tr th:only-of-type {\n",
       "        vertical-align: middle;\n",
       "    }\n",
       "\n",
       "    .dataframe tbody tr th {\n",
       "        vertical-align: top;\n",
       "    }\n",
       "\n",
       "    .dataframe thead th {\n",
       "        text-align: right;\n",
       "    }\n",
       "</style>\n",
       "<table border=\"1\" class=\"dataframe\">\n",
       "  <thead>\n",
       "    <tr style=\"text-align: right;\">\n",
       "      <th></th>\n",
       "      <th>x_1</th>\n",
       "      <th>x_2</th>\n",
       "      <th>y</th>\n",
       "    </tr>\n",
       "  </thead>\n",
       "  <tbody>\n",
       "    <tr>\n",
       "      <th>0</th>\n",
       "      <td>10</td>\n",
       "      <td>1</td>\n",
       "      <td>10</td>\n",
       "    </tr>\n",
       "    <tr>\n",
       "      <th>1</th>\n",
       "      <td>10</td>\n",
       "      <td>2</td>\n",
       "      <td>100</td>\n",
       "    </tr>\n",
       "    <tr>\n",
       "      <th>2</th>\n",
       "      <td>10</td>\n",
       "      <td>3</td>\n",
       "      <td>1000</td>\n",
       "    </tr>\n",
       "    <tr>\n",
       "      <th>3</th>\n",
       "      <td>20</td>\n",
       "      <td>1</td>\n",
       "      <td>20</td>\n",
       "    </tr>\n",
       "    <tr>\n",
       "      <th>4</th>\n",
       "      <td>20</td>\n",
       "      <td>2</td>\n",
       "      <td>400</td>\n",
       "    </tr>\n",
       "    <tr>\n",
       "      <th>5</th>\n",
       "      <td>20</td>\n",
       "      <td>3</td>\n",
       "      <td>8000</td>\n",
       "    </tr>\n",
       "    <tr>\n",
       "      <th>6</th>\n",
       "      <td>30</td>\n",
       "      <td>1</td>\n",
       "      <td>30</td>\n",
       "    </tr>\n",
       "    <tr>\n",
       "      <th>7</th>\n",
       "      <td>30</td>\n",
       "      <td>2</td>\n",
       "      <td>900</td>\n",
       "    </tr>\n",
       "    <tr>\n",
       "      <th>8</th>\n",
       "      <td>30</td>\n",
       "      <td>3</td>\n",
       "      <td>27000</td>\n",
       "    </tr>\n",
       "  </tbody>\n",
       "</table>\n",
       "</div>"
      ],
      "text/plain": [
       "   x_1  x_2      y\n",
       "0   10    1     10\n",
       "1   10    2    100\n",
       "2   10    3   1000\n",
       "3   20    1     20\n",
       "4   20    2    400\n",
       "5   20    3   8000\n",
       "6   30    1     30\n",
       "7   30    2    900\n",
       "8   30    3  27000"
      ]
     },
     "execution_count": 12,
     "metadata": {},
     "output_type": "execute_result"
    }
   ],
   "source": [
    "df = pd.DataFrame(outputs, columns=[\"x_1\", \"x_2\", \"y\"])\n",
    "df"
   ]
  },
  {
   "cell_type": "markdown",
   "metadata": {},
   "source": [
    "We can add styling to teh DataFrame to highlight the high and low values:"
   ]
  },
  {
   "cell_type": "code",
   "execution_count": 13,
   "metadata": {},
   "outputs": [
    {
     "data": {
      "text/html": [
       "<style type=\"text/css\">\n",
       "#T_c9466_row0_col2, #T_c9466_row1_col2, #T_c9466_row3_col2, #T_c9466_row6_col2 {\n",
       "  background-color: #a50026;\n",
       "  color: #f1f1f1;\n",
       "}\n",
       "#T_c9466_row2_col2 {\n",
       "  background-color: #b71126;\n",
       "  color: #f1f1f1;\n",
       "}\n",
       "#T_c9466_row4_col2 {\n",
       "  background-color: #ab0626;\n",
       "  color: #f1f1f1;\n",
       "}\n",
       "#T_c9466_row5_col2 {\n",
       "  background-color: #fcaa5f;\n",
       "  color: #000000;\n",
       "}\n",
       "#T_c9466_row7_col2 {\n",
       "  background-color: #b50f26;\n",
       "  color: #f1f1f1;\n",
       "}\n",
       "#T_c9466_row8_col2 {\n",
       "  background-color: #006837;\n",
       "  color: #f1f1f1;\n",
       "}\n",
       "</style>\n",
       "<table id=\"T_c9466_\">\n",
       "  <thead>\n",
       "    <tr>\n",
       "      <th class=\"blank level0\" >&nbsp;</th>\n",
       "      <th class=\"col_heading level0 col0\" >x_1</th>\n",
       "      <th class=\"col_heading level0 col1\" >x_2</th>\n",
       "      <th class=\"col_heading level0 col2\" >y</th>\n",
       "    </tr>\n",
       "  </thead>\n",
       "  <tbody>\n",
       "    <tr>\n",
       "      <th id=\"T_c9466_level0_row0\" class=\"row_heading level0 row0\" >0</th>\n",
       "      <td id=\"T_c9466_row0_col0\" class=\"data row0 col0\" >10</td>\n",
       "      <td id=\"T_c9466_row0_col1\" class=\"data row0 col1\" >1</td>\n",
       "      <td id=\"T_c9466_row0_col2\" class=\"data row0 col2\" >10</td>\n",
       "    </tr>\n",
       "    <tr>\n",
       "      <th id=\"T_c9466_level0_row1\" class=\"row_heading level0 row1\" >1</th>\n",
       "      <td id=\"T_c9466_row1_col0\" class=\"data row1 col0\" >10</td>\n",
       "      <td id=\"T_c9466_row1_col1\" class=\"data row1 col1\" >2</td>\n",
       "      <td id=\"T_c9466_row1_col2\" class=\"data row1 col2\" >100</td>\n",
       "    </tr>\n",
       "    <tr>\n",
       "      <th id=\"T_c9466_level0_row2\" class=\"row_heading level0 row2\" >2</th>\n",
       "      <td id=\"T_c9466_row2_col0\" class=\"data row2 col0\" >10</td>\n",
       "      <td id=\"T_c9466_row2_col1\" class=\"data row2 col1\" >3</td>\n",
       "      <td id=\"T_c9466_row2_col2\" class=\"data row2 col2\" >1000</td>\n",
       "    </tr>\n",
       "    <tr>\n",
       "      <th id=\"T_c9466_level0_row3\" class=\"row_heading level0 row3\" >3</th>\n",
       "      <td id=\"T_c9466_row3_col0\" class=\"data row3 col0\" >20</td>\n",
       "      <td id=\"T_c9466_row3_col1\" class=\"data row3 col1\" >1</td>\n",
       "      <td id=\"T_c9466_row3_col2\" class=\"data row3 col2\" >20</td>\n",
       "    </tr>\n",
       "    <tr>\n",
       "      <th id=\"T_c9466_level0_row4\" class=\"row_heading level0 row4\" >4</th>\n",
       "      <td id=\"T_c9466_row4_col0\" class=\"data row4 col0\" >20</td>\n",
       "      <td id=\"T_c9466_row4_col1\" class=\"data row4 col1\" >2</td>\n",
       "      <td id=\"T_c9466_row4_col2\" class=\"data row4 col2\" >400</td>\n",
       "    </tr>\n",
       "    <tr>\n",
       "      <th id=\"T_c9466_level0_row5\" class=\"row_heading level0 row5\" >5</th>\n",
       "      <td id=\"T_c9466_row5_col0\" class=\"data row5 col0\" >20</td>\n",
       "      <td id=\"T_c9466_row5_col1\" class=\"data row5 col1\" >3</td>\n",
       "      <td id=\"T_c9466_row5_col2\" class=\"data row5 col2\" >8000</td>\n",
       "    </tr>\n",
       "    <tr>\n",
       "      <th id=\"T_c9466_level0_row6\" class=\"row_heading level0 row6\" >6</th>\n",
       "      <td id=\"T_c9466_row6_col0\" class=\"data row6 col0\" >30</td>\n",
       "      <td id=\"T_c9466_row6_col1\" class=\"data row6 col1\" >1</td>\n",
       "      <td id=\"T_c9466_row6_col2\" class=\"data row6 col2\" >30</td>\n",
       "    </tr>\n",
       "    <tr>\n",
       "      <th id=\"T_c9466_level0_row7\" class=\"row_heading level0 row7\" >7</th>\n",
       "      <td id=\"T_c9466_row7_col0\" class=\"data row7 col0\" >30</td>\n",
       "      <td id=\"T_c9466_row7_col1\" class=\"data row7 col1\" >2</td>\n",
       "      <td id=\"T_c9466_row7_col2\" class=\"data row7 col2\" >900</td>\n",
       "    </tr>\n",
       "    <tr>\n",
       "      <th id=\"T_c9466_level0_row8\" class=\"row_heading level0 row8\" >8</th>\n",
       "      <td id=\"T_c9466_row8_col0\" class=\"data row8 col0\" >30</td>\n",
       "      <td id=\"T_c9466_row8_col1\" class=\"data row8 col1\" >3</td>\n",
       "      <td id=\"T_c9466_row8_col2\" class=\"data row8 col2\" >27000</td>\n",
       "    </tr>\n",
       "  </tbody>\n",
       "</table>\n"
      ],
      "text/plain": [
       "<pandas.io.formats.style.Styler at 0x7fa389e85bb0>"
      ]
     },
     "execution_count": 13,
     "metadata": {},
     "output_type": "execute_result"
    }
   ],
   "source": [
    "df.style.background_gradient(subset='y', cmap='RdYlGn')"
   ]
  },
  {
   "cell_type": "markdown",
   "metadata": {},
   "source": [
    "We can also plot the reuslts with a hex-bin plot:"
   ]
  },
  {
   "cell_type": "code",
   "execution_count": 14,
   "metadata": {},
   "outputs": [
    {
     "data": {
      "text/plain": [
       "<AxesSubplot:xlabel='x_1', ylabel='x_2'>"
      ]
     },
     "execution_count": 14,
     "metadata": {},
     "output_type": "execute_result"
    },
    {
     "data": {
      "image/png": "[encoded data removed]",
      "text/plain": [
       "<Figure size 432x288 with 2 Axes>"
      ]
     },
     "metadata": {
      "needs_background": "light"
     },
     "output_type": "display_data"
    }
   ],
   "source": [
    "df.plot.hexbin(x=\"x_1\", y=\"x_2\", C=\"y\", gridsize=3, cmap='RdYlGn', sharex=False)"
   ]
  },
  {
   "cell_type": "markdown",
   "metadata": {},
   "source": [
    "## Using the Sensitivity Library\n",
    "\n",
    "The sensitivity package is designed around making this whole process easier. It is also able to handle more than two varying inputs with ease. the basic usage is to construct a dictonary where the keys are the names of the inputts in a functionand values are iterables of the values for that input. then this dictionary is passed to ```SensitivityAnalyzer``` along with the function. The rest is handled for you."
   ]
  },
  {
   "cell_type": "code",
   "execution_count": 15,
   "metadata": {},
   "outputs": [
    {
     "name": "stderr",
     "output_type": "stream",
     "text": [
      "100%|██████████| 9/9 [00:00<00:00, 851.62it/s]\n"
     ]
    }
   ],
   "source": [
    "from sensitivity import SensitivityAnalyzer\n",
    "\n",
    "\n",
    "sensitivity_dict = {\n",
    "    \"x_1\": [10, 20, 30],\n",
    "    \"x_2\": [1, 2, 3]\n",
    "}\n",
    "\n",
    "sa = SensitivityAnalyzer(sensitivity_dict, my_model)"
   ]
  },
  {
   "cell_type": "markdown",
   "metadata": {},
   "source": [
    "Now that we have created the ```SensitivityAnalyzer``` object, it has finished the sensitivity analysis. we canview a ```DataFrame``` with theresults at ```.df```:"
   ]
  },
  {
   "cell_type": "code",
   "execution_count": 16,
   "metadata": {},
   "outputs": [
    {
     "data": {
      "text/html": [
       "<div>\n",
       "<style scoped>\n",
       "    .dataframe tbody tr th:only-of-type {\n",
       "        vertical-align: middle;\n",
       "    }\n",
       "\n",
       "    .dataframe tbody tr th {\n",
       "        vertical-align: top;\n",
       "    }\n",
       "\n",
       "    .dataframe thead th {\n",
       "        text-align: right;\n",
       "    }\n",
       "</style>\n",
       "<table border=\"1\" class=\"dataframe\">\n",
       "  <thead>\n",
       "    <tr style=\"text-align: right;\">\n",
       "      <th></th>\n",
       "      <th>x_1</th>\n",
       "      <th>x_2</th>\n",
       "      <th>Result</th>\n",
       "    </tr>\n",
       "  </thead>\n",
       "  <tbody>\n",
       "    <tr>\n",
       "      <th>0</th>\n",
       "      <td>10</td>\n",
       "      <td>1</td>\n",
       "      <td>10</td>\n",
       "    </tr>\n",
       "    <tr>\n",
       "      <th>1</th>\n",
       "      <td>10</td>\n",
       "      <td>2</td>\n",
       "      <td>100</td>\n",
       "    </tr>\n",
       "    <tr>\n",
       "      <th>2</th>\n",
       "      <td>10</td>\n",
       "      <td>3</td>\n",
       "      <td>1000</td>\n",
       "    </tr>\n",
       "    <tr>\n",
       "      <th>3</th>\n",
       "      <td>20</td>\n",
       "      <td>1</td>\n",
       "      <td>20</td>\n",
       "    </tr>\n",
       "    <tr>\n",
       "      <th>4</th>\n",
       "      <td>20</td>\n",
       "      <td>2</td>\n",
       "      <td>400</td>\n",
       "    </tr>\n",
       "    <tr>\n",
       "      <th>5</th>\n",
       "      <td>20</td>\n",
       "      <td>3</td>\n",
       "      <td>8000</td>\n",
       "    </tr>\n",
       "    <tr>\n",
       "      <th>6</th>\n",
       "      <td>30</td>\n",
       "      <td>1</td>\n",
       "      <td>30</td>\n",
       "    </tr>\n",
       "    <tr>\n",
       "      <th>7</th>\n",
       "      <td>30</td>\n",
       "      <td>2</td>\n",
       "      <td>900</td>\n",
       "    </tr>\n",
       "    <tr>\n",
       "      <th>8</th>\n",
       "      <td>30</td>\n",
       "      <td>3</td>\n",
       "      <td>27000</td>\n",
       "    </tr>\n",
       "  </tbody>\n",
       "</table>\n",
       "</div>"
      ],
      "text/plain": [
       "   x_1  x_2  Result\n",
       "0   10    1      10\n",
       "1   10    2     100\n",
       "2   10    3    1000\n",
       "3   20    1      20\n",
       "4   20    2     400\n",
       "5   20    3    8000\n",
       "6   30    1      30\n",
       "7   30    2     900\n",
       "8   30    3   27000"
      ]
     },
     "execution_count": 16,
     "metadata": {},
     "output_type": "execute_result"
    }
   ],
   "source": [
    "sa.df"
   ]
  },
  {
   "cell_type": "markdown",
   "metadata": {},
   "source": [
    "We can also get the hex-bin plot and styled DataFrame:"
   ]
  },
  {
   "cell_type": "code",
   "execution_count": 17,
   "metadata": {},
   "outputs": [
    {
     "data": {
      "image/png": "[encoded data removed]",
      "text/plain": [
       "<Figure size 1080x288 with 2 Axes>"
      ]
     },
     "metadata": {
      "needs_background": "light"
     },
     "output_type": "display_data"
    }
   ],
   "source": [
    "plot = sa.plot()"
   ]
  },
  {
   "cell_type": "code",
   "execution_count": 18,
   "metadata": {},
   "outputs": [
    {
     "data": {
      "text/html": [
       "<h2>Result by x_1 vs. x_2</h2>"
      ],
      "text/plain": [
       "<IPython.core.display.HTML object>"
      ]
     },
     "metadata": {},
     "output_type": "display_data"
    },
    {
     "data": {
      "text/html": [
       "<style type=\"text/css\">\n",
       "#T_1c57f_row0_col0, #T_1c57f_row0_col1, #T_1c57f_row1_col0, #T_1c57f_row2_col0 {\n",
       "  background-color: #a50026;\n",
       "  color: #f1f1f1;\n",
       "}\n",
       "#T_1c57f_row0_col2 {\n",
       "  background-color: #b71126;\n",
       "  color: #f1f1f1;\n",
       "}\n",
       "#T_1c57f_row1_col1 {\n",
       "  background-color: #ab0626;\n",
       "  color: #f1f1f1;\n",
       "}\n",
       "#T_1c57f_row1_col2 {\n",
       "  background-color: #fcaa5f;\n",
       "  color: #000000;\n",
       "}\n",
       "#T_1c57f_row2_col1 {\n",
       "  background-color: #b50f26;\n",
       "  color: #f1f1f1;\n",
       "}\n",
       "#T_1c57f_row2_col2 {\n",
       "  background-color: #006837;\n",
       "  color: #f1f1f1;\n",
       "}\n",
       "</style>\n",
       "<table id=\"T_1c57f_\">\n",
       "  <caption>Result - x_1 vs. x_2</caption>\n",
       "  <thead>\n",
       "    <tr>\n",
       "      <th class=\"blank level0\" >&nbsp;</th>\n",
       "      <th class=\"col_heading level0 col0\" >1</th>\n",
       "      <th class=\"col_heading level0 col1\" >2</th>\n",
       "      <th class=\"col_heading level0 col2\" >3</th>\n",
       "    </tr>\n",
       "    <tr>\n",
       "      <th class=\"index_name level0\" >x_1</th>\n",
       "      <th class=\"blank col0\" >&nbsp;</th>\n",
       "      <th class=\"blank col1\" >&nbsp;</th>\n",
       "      <th class=\"blank col2\" >&nbsp;</th>\n",
       "    </tr>\n",
       "  </thead>\n",
       "  <tbody>\n",
       "    <tr>\n",
       "      <th id=\"T_1c57f_level0_row0\" class=\"row_heading level0 row0\" >10</th>\n",
       "      <td id=\"T_1c57f_row0_col0\" class=\"data row0 col0\" >10.000000</td>\n",
       "      <td id=\"T_1c57f_row0_col1\" class=\"data row0 col1\" >100.000000</td>\n",
       "      <td id=\"T_1c57f_row0_col2\" class=\"data row0 col2\" >1000.000000</td>\n",
       "    </tr>\n",
       "    <tr>\n",
       "      <th id=\"T_1c57f_level0_row1\" class=\"row_heading level0 row1\" >20</th>\n",
       "      <td id=\"T_1c57f_row1_col0\" class=\"data row1 col0\" >20.000000</td>\n",
       "      <td id=\"T_1c57f_row1_col1\" class=\"data row1 col1\" >400.000000</td>\n",
       "      <td id=\"T_1c57f_row1_col2\" class=\"data row1 col2\" >8000.000000</td>\n",
       "    </tr>\n",
       "    <tr>\n",
       "      <th id=\"T_1c57f_level0_row2\" class=\"row_heading level0 row2\" >30</th>\n",
       "      <td id=\"T_1c57f_row2_col0\" class=\"data row2 col0\" >30.000000</td>\n",
       "      <td id=\"T_1c57f_row2_col1\" class=\"data row2 col1\" >900.000000</td>\n",
       "      <td id=\"T_1c57f_row2_col2\" class=\"data row2 col2\" >27000.000000</td>\n",
       "    </tr>\n",
       "  </tbody>\n",
       "</table>\n"
      ],
      "text/plain": [
       "<IPython.core.display.HTML object>"
      ]
     },
     "metadata": {},
     "output_type": "display_data"
    }
   ],
   "source": [
    "styled = sa.styled_dfs()"
   ]
  },
  {
   "cell_type": "markdown",
   "metadata": {},
   "source": [
    "When creating the ```SentitivityAnalyser``` object, you can pass other options for formating the outputs:"
   ]
  },
  {
   "cell_type": "code",
   "execution_count": 19,
   "metadata": {},
   "outputs": [
    {
     "name": "stderr",
     "output_type": "stream",
     "text": [
      "100%|██████████| 9/9 [00:00<00:00, 876.84it/s]\n"
     ]
    },
    {
     "data": {
      "image/png": "[encoded data removed]",
      "text/plain": [
       "<Figure size 1080x288 with 2 Axes>"
      ]
     },
     "metadata": {
      "needs_background": "light"
     },
     "output_type": "display_data"
    }
   ],
   "source": [
    "labels = {\n",
    "    \"x_1\": \"First Input\",\n",
    "    \"x_2\": \"Second input\"\n",
    "}\n",
    "\n",
    "sa = SensitivityAnalyzer(\n",
    "    sensitivity_dict, my_model, grid_size=3, reverse_colors=True, color_map=\"coolwarm\", labels=labels\n",
    ")\n",
    "\n",
    "plot = sa.plot()"
   ]
  },
  {
   "cell_type": "code",
   "execution_count": 20,
   "metadata": {},
   "outputs": [
    {
     "data": {
      "text/html": [
       "<h2>Result by First Input vs. Second input</h2>"
      ],
      "text/plain": [
       "<IPython.core.display.HTML object>"
      ]
     },
     "metadata": {},
     "output_type": "display_data"
    },
    {
     "data": {
      "text/html": [
       "<style type=\"text/css\">\n",
       "#T_88f74_row0_col0, #T_88f74_row0_col1, #T_88f74_row1_col0, #T_88f74_row2_col0 {\n",
       "  background-color: #b40426;\n",
       "  color: #f1f1f1;\n",
       "}\n",
       "#T_88f74_row0_col2 {\n",
       "  background-color: #c12b30;\n",
       "  color: #f1f1f1;\n",
       "}\n",
       "#T_88f74_row1_col1 {\n",
       "  background-color: #b8122a;\n",
       "  color: #f1f1f1;\n",
       "}\n",
       "#T_88f74_row1_col2 {\n",
       "  background-color: #f7aa8c;\n",
       "  color: #000000;\n",
       "}\n",
       "#T_88f74_row2_col1 {\n",
       "  background-color: #c0282f;\n",
       "  color: #f1f1f1;\n",
       "}\n",
       "#T_88f74_row2_col2 {\n",
       "  background-color: #3b4cc0;\n",
       "  color: #f1f1f1;\n",
       "}\n",
       "</style>\n",
       "<table id=\"T_88f74_\">\n",
       "  <caption>Result - First Input vs. Second input</caption>\n",
       "  <thead>\n",
       "    <tr>\n",
       "      <th class=\"blank level0\" >&nbsp;</th>\n",
       "      <th class=\"col_heading level0 col0\" >1</th>\n",
       "      <th class=\"col_heading level0 col1\" >2</th>\n",
       "      <th class=\"col_heading level0 col2\" >3</th>\n",
       "    </tr>\n",
       "    <tr>\n",
       "      <th class=\"index_name level0\" >First Input</th>\n",
       "      <th class=\"blank col0\" >&nbsp;</th>\n",
       "      <th class=\"blank col1\" >&nbsp;</th>\n",
       "      <th class=\"blank col2\" >&nbsp;</th>\n",
       "    </tr>\n",
       "  </thead>\n",
       "  <tbody>\n",
       "    <tr>\n",
       "      <th id=\"T_88f74_level0_row0\" class=\"row_heading level0 row0\" >10</th>\n",
       "      <td id=\"T_88f74_row0_col0\" class=\"data row0 col0\" >10.000000</td>\n",
       "      <td id=\"T_88f74_row0_col1\" class=\"data row0 col1\" >100.000000</td>\n",
       "      <td id=\"T_88f74_row0_col2\" class=\"data row0 col2\" >1000.000000</td>\n",
       "    </tr>\n",
       "    <tr>\n",
       "      <th id=\"T_88f74_level0_row1\" class=\"row_heading level0 row1\" >20</th>\n",
       "      <td id=\"T_88f74_row1_col0\" class=\"data row1 col0\" >20.000000</td>\n",
       "      <td id=\"T_88f74_row1_col1\" class=\"data row1 col1\" >400.000000</td>\n",
       "      <td id=\"T_88f74_row1_col2\" class=\"data row1 col2\" >8000.000000</td>\n",
       "    </tr>\n",
       "    <tr>\n",
       "      <th id=\"T_88f74_level0_row2\" class=\"row_heading level0 row2\" >30</th>\n",
       "      <td id=\"T_88f74_row2_col0\" class=\"data row2 col0\" >30.000000</td>\n",
       "      <td id=\"T_88f74_row2_col1\" class=\"data row2 col1\" >900.000000</td>\n",
       "      <td id=\"T_88f74_row2_col2\" class=\"data row2 col2\" >27000.000000</td>\n",
       "    </tr>\n",
       "  </tbody>\n",
       "</table>\n"
      ],
      "text/plain": [
       "<IPython.core.display.HTML object>"
      ]
     },
     "metadata": {},
     "output_type": "display_data"
    }
   ],
   "source": [
    "styles = sa.styled_dfs()"
   ]
  },
  {
   "cell_type": "markdown",
   "metadata": {},
   "source": [
    "## Result by First Input vs. Second Input"
   ]
  },
  {
   "cell_type": "markdown",
   "metadata": {},
   "source": [
    "This all works with more than two inputs as well. in that case we will get multiple pair-wise plots and styled ```DataFrame```'s:"
   ]
  },
  {
   "cell_type": "code",
   "execution_count": 25,
   "metadata": {},
   "outputs": [
    {
     "name": "stderr",
     "output_type": "stream",
     "text": [
      "100%|██████████| 27/27 [00:00<00:00, 961.71it/s]\n"
     ]
    }
   ],
   "source": [
    "def my_model_2(x_1, x_2, x_3):\n",
    "    return x_1 * x_2 * x_3\n",
    "\n",
    "\n",
    "sensitivity_dict = {\n",
    "    \"x_1\": [10, 20, 30],\n",
    "    \"x_2\": [1, 2, 3],\n",
    "    \"x_3\": [7, 8, 9]\n",
    "}\n",
    "\n",
    "sa = SensitivityAnalyzer(sensitivity_dict, my_model_2, grid_size=3)"
   ]
  },
  {
   "cell_type": "code",
   "execution_count": 26,
   "metadata": {},
   "outputs": [
    {
     "data": {
      "image/png": "[encoded data removed]",
      "text/plain": [
       "<Figure size 1080x288 with 6 Axes>"
      ]
     },
     "metadata": {
      "needs_background": "light"
     },
     "output_type": "display_data"
    }
   ],
   "source": [
    "plot = sa.plot()"
   ]
  },
  {
   "cell_type": "code",
   "execution_count": 27,
   "metadata": {},
   "outputs": [
    {
     "data": {
      "text/html": [
       "<h2>Result by x_1 vs. x_2</h2>"
      ],
      "text/plain": [
       "<IPython.core.display.HTML object>"
      ]
     },
     "metadata": {},
     "output_type": "display_data"
    },
    {
     "data": {
      "text/html": [
       "<style type=\"text/css\">\n",
       "#T_e9471_row0_col0 {\n",
       "  background-color: #a50026;\n",
       "  color: #f1f1f1;\n",
       "}\n",
       "#T_e9471_row0_col1, #T_e9471_row1_col0 {\n",
       "  background-color: #de402e;\n",
       "  color: #f1f1f1;\n",
       "}\n",
       "#T_e9471_row0_col2, #T_e9471_row2_col0 {\n",
       "  background-color: #f98e52;\n",
       "  color: #f1f1f1;\n",
       "}\n",
       "#T_e9471_row1_col1 {\n",
       "  background-color: #fed481;\n",
       "  color: #000000;\n",
       "}\n",
       "#T_e9471_row1_col2, #T_e9471_row2_col1 {\n",
       "  background-color: #cbe982;\n",
       "  color: #000000;\n",
       "}\n",
       "#T_e9471_row2_col2 {\n",
       "  background-color: #006837;\n",
       "  color: #f1f1f1;\n",
       "}\n",
       "</style>\n",
       "<table id=\"T_e9471_\">\n",
       "  <caption>Result - x_1 vs. x_2</caption>\n",
       "  <thead>\n",
       "    <tr>\n",
       "      <th class=\"blank level0\" >&nbsp;</th>\n",
       "      <th class=\"col_heading level0 col0\" >1</th>\n",
       "      <th class=\"col_heading level0 col1\" >2</th>\n",
       "      <th class=\"col_heading level0 col2\" >3</th>\n",
       "    </tr>\n",
       "    <tr>\n",
       "      <th class=\"index_name level0\" >x_1</th>\n",
       "      <th class=\"blank col0\" >&nbsp;</th>\n",
       "      <th class=\"blank col1\" >&nbsp;</th>\n",
       "      <th class=\"blank col2\" >&nbsp;</th>\n",
       "    </tr>\n",
       "  </thead>\n",
       "  <tbody>\n",
       "    <tr>\n",
       "      <th id=\"T_e9471_level0_row0\" class=\"row_heading level0 row0\" >10</th>\n",
       "      <td id=\"T_e9471_row0_col0\" class=\"data row0 col0\" >80.000000</td>\n",
       "      <td id=\"T_e9471_row0_col1\" class=\"data row0 col1\" >160.000000</td>\n",
       "      <td id=\"T_e9471_row0_col2\" class=\"data row0 col2\" >240.000000</td>\n",
       "    </tr>\n",
       "    <tr>\n",
       "      <th id=\"T_e9471_level0_row1\" class=\"row_heading level0 row1\" >20</th>\n",
       "      <td id=\"T_e9471_row1_col0\" class=\"data row1 col0\" >160.000000</td>\n",
       "      <td id=\"T_e9471_row1_col1\" class=\"data row1 col1\" >320.000000</td>\n",
       "      <td id=\"T_e9471_row1_col2\" class=\"data row1 col2\" >480.000000</td>\n",
       "    </tr>\n",
       "    <tr>\n",
       "      <th id=\"T_e9471_level0_row2\" class=\"row_heading level0 row2\" >30</th>\n",
       "      <td id=\"T_e9471_row2_col0\" class=\"data row2 col0\" >240.000000</td>\n",
       "      <td id=\"T_e9471_row2_col1\" class=\"data row2 col1\" >480.000000</td>\n",
       "      <td id=\"T_e9471_row2_col2\" class=\"data row2 col2\" >720.000000</td>\n",
       "    </tr>\n",
       "  </tbody>\n",
       "</table>\n"
      ],
      "text/plain": [
       "<IPython.core.display.HTML object>"
      ]
     },
     "metadata": {},
     "output_type": "display_data"
    },
    {
     "data": {
      "text/html": [
       "<h2>Result by x_1 vs. x_3</h2>"
      ],
      "text/plain": [
       "<IPython.core.display.HTML object>"
      ]
     },
     "metadata": {},
     "output_type": "display_data"
    },
    {
     "data": {
      "text/html": [
       "<style type=\"text/css\">\n",
       "#T_8b928_row0_col0 {\n",
       "  background-color: #a50026;\n",
       "  color: #f1f1f1;\n",
       "}\n",
       "#T_8b928_row0_col1 {\n",
       "  background-color: #bd1726;\n",
       "  color: #f1f1f1;\n",
       "}\n",
       "#T_8b928_row0_col2 {\n",
       "  background-color: #d62f27;\n",
       "  color: #f1f1f1;\n",
       "}\n",
       "#T_8b928_row1_col0 {\n",
       "  background-color: #fdc776;\n",
       "  color: #000000;\n",
       "}\n",
       "#T_8b928_row1_col1 {\n",
       "  background-color: #fff0a6;\n",
       "  color: #000000;\n",
       "}\n",
       "#T_8b928_row1_col2 {\n",
       "  background-color: #ecf7a6;\n",
       "  color: #000000;\n",
       "}\n",
       "#T_8b928_row2_col0 {\n",
       "  background-color: #a5d86a;\n",
       "  color: #000000;\n",
       "}\n",
       "#T_8b928_row2_col1 {\n",
       "  background-color: #3faa59;\n",
       "  color: #f1f1f1;\n",
       "}\n",
       "#T_8b928_row2_col2 {\n",
       "  background-color: #006837;\n",
       "  color: #f1f1f1;\n",
       "}\n",
       "</style>\n",
       "<table id=\"T_8b928_\">\n",
       "  <caption>Result - x_1 vs. x_3</caption>\n",
       "  <thead>\n",
       "    <tr>\n",
       "      <th class=\"blank level0\" >&nbsp;</th>\n",
       "      <th class=\"col_heading level0 col0\" >7</th>\n",
       "      <th class=\"col_heading level0 col1\" >8</th>\n",
       "      <th class=\"col_heading level0 col2\" >9</th>\n",
       "    </tr>\n",
       "    <tr>\n",
       "      <th class=\"index_name level0\" >x_1</th>\n",
       "      <th class=\"blank col0\" >&nbsp;</th>\n",
       "      <th class=\"blank col1\" >&nbsp;</th>\n",
       "      <th class=\"blank col2\" >&nbsp;</th>\n",
       "    </tr>\n",
       "  </thead>\n",
       "  <tbody>\n",
       "    <tr>\n",
       "      <th id=\"T_8b928_level0_row0\" class=\"row_heading level0 row0\" >10</th>\n",
       "      <td id=\"T_8b928_row0_col0\" class=\"data row0 col0\" >140.000000</td>\n",
       "      <td id=\"T_8b928_row0_col1\" class=\"data row0 col1\" >160.000000</td>\n",
       "      <td id=\"T_8b928_row0_col2\" class=\"data row0 col2\" >180.000000</td>\n",
       "    </tr>\n",
       "    <tr>\n",
       "      <th id=\"T_8b928_level0_row1\" class=\"row_heading level0 row1\" >20</th>\n",
       "      <td id=\"T_8b928_row1_col0\" class=\"data row1 col0\" >280.000000</td>\n",
       "      <td id=\"T_8b928_row1_col1\" class=\"data row1 col1\" >320.000000</td>\n",
       "      <td id=\"T_8b928_row1_col2\" class=\"data row1 col2\" >360.000000</td>\n",
       "    </tr>\n",
       "    <tr>\n",
       "      <th id=\"T_8b928_level0_row2\" class=\"row_heading level0 row2\" >30</th>\n",
       "      <td id=\"T_8b928_row2_col0\" class=\"data row2 col0\" >420.000000</td>\n",
       "      <td id=\"T_8b928_row2_col1\" class=\"data row2 col1\" >480.000000</td>\n",
       "      <td id=\"T_8b928_row2_col2\" class=\"data row2 col2\" >540.000000</td>\n",
       "    </tr>\n",
       "  </tbody>\n",
       "</table>\n"
      ],
      "text/plain": [
       "<IPython.core.display.HTML object>"
      ]
     },
     "metadata": {},
     "output_type": "display_data"
    },
    {
     "data": {
      "text/html": [
       "<h2>Result by x_2 vs. x_3</h2>"
      ],
      "text/plain": [
       "<IPython.core.display.HTML object>"
      ]
     },
     "metadata": {},
     "output_type": "display_data"
    },
    {
     "data": {
      "text/html": [
       "<style type=\"text/css\">\n",
       "#T_866ba_row0_col0 {\n",
       "  background-color: #a50026;\n",
       "  color: #f1f1f1;\n",
       "}\n",
       "#T_866ba_row0_col1 {\n",
       "  background-color: #bd1726;\n",
       "  color: #f1f1f1;\n",
       "}\n",
       "#T_866ba_row0_col2 {\n",
       "  background-color: #d62f27;\n",
       "  color: #f1f1f1;\n",
       "}\n",
       "#T_866ba_row1_col0 {\n",
       "  background-color: #fdc776;\n",
       "  color: #000000;\n",
       "}\n",
       "#T_866ba_row1_col1 {\n",
       "  background-color: #fff0a6;\n",
       "  color: #000000;\n",
       "}\n",
       "#T_866ba_row1_col2 {\n",
       "  background-color: #ecf7a6;\n",
       "  color: #000000;\n",
       "}\n",
       "#T_866ba_row2_col0 {\n",
       "  background-color: #a5d86a;\n",
       "  color: #000000;\n",
       "}\n",
       "#T_866ba_row2_col1 {\n",
       "  background-color: #3faa59;\n",
       "  color: #f1f1f1;\n",
       "}\n",
       "#T_866ba_row2_col2 {\n",
       "  background-color: #006837;\n",
       "  color: #f1f1f1;\n",
       "}\n",
       "</style>\n",
       "<table id=\"T_866ba_\">\n",
       "  <caption>Result - x_2 vs. x_3</caption>\n",
       "  <thead>\n",
       "    <tr>\n",
       "      <th class=\"blank level0\" >&nbsp;</th>\n",
       "      <th class=\"col_heading level0 col0\" >7</th>\n",
       "      <th class=\"col_heading level0 col1\" >8</th>\n",
       "      <th class=\"col_heading level0 col2\" >9</th>\n",
       "    </tr>\n",
       "    <tr>\n",
       "      <th class=\"index_name level0\" >x_2</th>\n",
       "      <th class=\"blank col0\" >&nbsp;</th>\n",
       "      <th class=\"blank col1\" >&nbsp;</th>\n",
       "      <th class=\"blank col2\" >&nbsp;</th>\n",
       "    </tr>\n",
       "  </thead>\n",
       "  <tbody>\n",
       "    <tr>\n",
       "      <th id=\"T_866ba_level0_row0\" class=\"row_heading level0 row0\" >1</th>\n",
       "      <td id=\"T_866ba_row0_col0\" class=\"data row0 col0\" >140.000000</td>\n",
       "      <td id=\"T_866ba_row0_col1\" class=\"data row0 col1\" >160.000000</td>\n",
       "      <td id=\"T_866ba_row0_col2\" class=\"data row0 col2\" >180.000000</td>\n",
       "    </tr>\n",
       "    <tr>\n",
       "      <th id=\"T_866ba_level0_row1\" class=\"row_heading level0 row1\" >2</th>\n",
       "      <td id=\"T_866ba_row1_col0\" class=\"data row1 col0\" >280.000000</td>\n",
       "      <td id=\"T_866ba_row1_col1\" class=\"data row1 col1\" >320.000000</td>\n",
       "      <td id=\"T_866ba_row1_col2\" class=\"data row1 col2\" >360.000000</td>\n",
       "    </tr>\n",
       "    <tr>\n",
       "      <th id=\"T_866ba_level0_row2\" class=\"row_heading level0 row2\" >3</th>\n",
       "      <td id=\"T_866ba_row2_col0\" class=\"data row2 col0\" >420.000000</td>\n",
       "      <td id=\"T_866ba_row2_col1\" class=\"data row2 col1\" >480.000000</td>\n",
       "      <td id=\"T_866ba_row2_col2\" class=\"data row2 col2\" >540.000000</td>\n",
       "    </tr>\n",
       "  </tbody>\n",
       "</table>\n"
      ],
      "text/plain": [
       "<IPython.core.display.HTML object>"
      ]
     },
     "metadata": {},
     "output_type": "display_data"
    }
   ],
   "source": [
    "styled_dict = sa.styled_dfs()"
   ]
  },
  {
   "cell_type": "markdown",
   "metadata": {},
   "source": [
    "The plot is still a single ```Figure``` object, but the ```styled_dfs``` produces a dictionary where there are more than two inputs. The keys of the dictionary are a tuple of the column names involved in the ```Styler```, and the values are the ```Styler```s."
   ]
  },
  {
   "cell_type": "code",
   "execution_count": 28,
   "metadata": {},
   "outputs": [
    {
     "data": {
      "text/plain": [
       "{('x_1', 'x_2'): <pandas.io.formats.style.Styler at 0x7fa38afec280>,\n",
       " ('x_1', 'x_3'): <pandas.io.formats.style.Styler at 0x7fa38b400130>,\n",
       " ('x_2', 'x_3'): <pandas.io.formats.style.Styler at 0x7fa38b345c10>}"
      ]
     },
     "execution_count": 28,
     "metadata": {},
     "output_type": "execute_result"
    }
   ],
   "source": [
    "styled_dict"
   ]
  },
  {
   "cell_type": "markdown",
   "metadata": {},
   "source": [
    "### Adding Additional Styling to Styled ```DataFrames```\n",
    "\n",
    "It could be desired to pass some number or other formatting to the styled ```DataFrame```s. This can be done with the ```num_fmt``` argument, either when first creating the ```SentitivityAnalyzer``` or when calling the ```styled_dfs``` method. just pass it the string of the numberformat, in the same way you would specify the number formatting string for ```df.style.format```."
   ]
  },
  {
   "cell_type": "code",
   "execution_count": 29,
   "metadata": {},
   "outputs": [
    {
     "data": {
      "text/html": [
       "<h2>Result by x_1 vs. x_2</h2>"
      ],
      "text/plain": [
       "<IPython.core.display.HTML object>"
      ]
     },
     "metadata": {},
     "output_type": "display_data"
    },
    {
     "data": {
      "text/html": [
       "<style type=\"text/css\">\n",
       "#T_af96b_row0_col0 {\n",
       "  background-color: #a50026;\n",
       "  color: #f1f1f1;\n",
       "}\n",
       "#T_af96b_row0_col1, #T_af96b_row1_col0 {\n",
       "  background-color: #de402e;\n",
       "  color: #f1f1f1;\n",
       "}\n",
       "#T_af96b_row0_col2, #T_af96b_row2_col0 {\n",
       "  background-color: #f98e52;\n",
       "  color: #f1f1f1;\n",
       "}\n",
       "#T_af96b_row1_col1 {\n",
       "  background-color: #fed481;\n",
       "  color: #000000;\n",
       "}\n",
       "#T_af96b_row1_col2, #T_af96b_row2_col1 {\n",
       "  background-color: #cbe982;\n",
       "  color: #000000;\n",
       "}\n",
       "#T_af96b_row2_col2 {\n",
       "  background-color: #006837;\n",
       "  color: #f1f1f1;\n",
       "}\n",
       "</style>\n",
       "<table id=\"T_af96b_\">\n",
       "  <caption>Result - x_1 vs. x_2</caption>\n",
       "  <thead>\n",
       "    <tr>\n",
       "      <th class=\"blank level0\" >&nbsp;</th>\n",
       "      <th class=\"col_heading level0 col0\" >1</th>\n",
       "      <th class=\"col_heading level0 col1\" >2</th>\n",
       "      <th class=\"col_heading level0 col2\" >3</th>\n",
       "    </tr>\n",
       "    <tr>\n",
       "      <th class=\"index_name level0\" >x_1</th>\n",
       "      <th class=\"blank col0\" >&nbsp;</th>\n",
       "      <th class=\"blank col1\" >&nbsp;</th>\n",
       "      <th class=\"blank col2\" >&nbsp;</th>\n",
       "    </tr>\n",
       "  </thead>\n",
       "  <tbody>\n",
       "    <tr>\n",
       "      <th id=\"T_af96b_level0_row0\" class=\"row_heading level0 row0\" >10</th>\n",
       "      <td id=\"T_af96b_row0_col0\" class=\"data row0 col0\" >$80</td>\n",
       "      <td id=\"T_af96b_row0_col1\" class=\"data row0 col1\" >$160</td>\n",
       "      <td id=\"T_af96b_row0_col2\" class=\"data row0 col2\" >$240</td>\n",
       "    </tr>\n",
       "    <tr>\n",
       "      <th id=\"T_af96b_level0_row1\" class=\"row_heading level0 row1\" >20</th>\n",
       "      <td id=\"T_af96b_row1_col0\" class=\"data row1 col0\" >$160</td>\n",
       "      <td id=\"T_af96b_row1_col1\" class=\"data row1 col1\" >$320</td>\n",
       "      <td id=\"T_af96b_row1_col2\" class=\"data row1 col2\" >$480</td>\n",
       "    </tr>\n",
       "    <tr>\n",
       "      <th id=\"T_af96b_level0_row2\" class=\"row_heading level0 row2\" >30</th>\n",
       "      <td id=\"T_af96b_row2_col0\" class=\"data row2 col0\" >$240</td>\n",
       "      <td id=\"T_af96b_row2_col1\" class=\"data row2 col1\" >$480</td>\n",
       "      <td id=\"T_af96b_row2_col2\" class=\"data row2 col2\" >$720</td>\n",
       "    </tr>\n",
       "  </tbody>\n",
       "</table>\n"
      ],
      "text/plain": [
       "<IPython.core.display.HTML object>"
      ]
     },
     "metadata": {},
     "output_type": "display_data"
    },
    {
     "data": {
      "text/html": [
       "<h2>Result by x_1 vs. x_3</h2>"
      ],
      "text/plain": [
       "<IPython.core.display.HTML object>"
      ]
     },
     "metadata": {},
     "output_type": "display_data"
    },
    {
     "data": {
      "text/html": [
       "<style type=\"text/css\">\n",
       "#T_ca56e_row0_col0 {\n",
       "  background-color: #a50026;\n",
       "  color: #f1f1f1;\n",
       "}\n",
       "#T_ca56e_row0_col1 {\n",
       "  background-color: #bd1726;\n",
       "  color: #f1f1f1;\n",
       "}\n",
       "#T_ca56e_row0_col2 {\n",
       "  background-color: #d62f27;\n",
       "  color: #f1f1f1;\n",
       "}\n",
       "#T_ca56e_row1_col0 {\n",
       "  background-color: #fdc776;\n",
       "  color: #000000;\n",
       "}\n",
       "#T_ca56e_row1_col1 {\n",
       "  background-color: #fff0a6;\n",
       "  color: #000000;\n",
       "}\n",
       "#T_ca56e_row1_col2 {\n",
       "  background-color: #ecf7a6;\n",
       "  color: #000000;\n",
       "}\n",
       "#T_ca56e_row2_col0 {\n",
       "  background-color: #a5d86a;\n",
       "  color: #000000;\n",
       "}\n",
       "#T_ca56e_row2_col1 {\n",
       "  background-color: #3faa59;\n",
       "  color: #f1f1f1;\n",
       "}\n",
       "#T_ca56e_row2_col2 {\n",
       "  background-color: #006837;\n",
       "  color: #f1f1f1;\n",
       "}\n",
       "</style>\n",
       "<table id=\"T_ca56e_\">\n",
       "  <caption>Result - x_1 vs. x_3</caption>\n",
       "  <thead>\n",
       "    <tr>\n",
       "      <th class=\"blank level0\" >&nbsp;</th>\n",
       "      <th class=\"col_heading level0 col0\" >7</th>\n",
       "      <th class=\"col_heading level0 col1\" >8</th>\n",
       "      <th class=\"col_heading level0 col2\" >9</th>\n",
       "    </tr>\n",
       "    <tr>\n",
       "      <th class=\"index_name level0\" >x_1</th>\n",
       "      <th class=\"blank col0\" >&nbsp;</th>\n",
       "      <th class=\"blank col1\" >&nbsp;</th>\n",
       "      <th class=\"blank col2\" >&nbsp;</th>\n",
       "    </tr>\n",
       "  </thead>\n",
       "  <tbody>\n",
       "    <tr>\n",
       "      <th id=\"T_ca56e_level0_row0\" class=\"row_heading level0 row0\" >10</th>\n",
       "      <td id=\"T_ca56e_row0_col0\" class=\"data row0 col0\" >$140</td>\n",
       "      <td id=\"T_ca56e_row0_col1\" class=\"data row0 col1\" >$160</td>\n",
       "      <td id=\"T_ca56e_row0_col2\" class=\"data row0 col2\" >$180</td>\n",
       "    </tr>\n",
       "    <tr>\n",
       "      <th id=\"T_ca56e_level0_row1\" class=\"row_heading level0 row1\" >20</th>\n",
       "      <td id=\"T_ca56e_row1_col0\" class=\"data row1 col0\" >$280</td>\n",
       "      <td id=\"T_ca56e_row1_col1\" class=\"data row1 col1\" >$320</td>\n",
       "      <td id=\"T_ca56e_row1_col2\" class=\"data row1 col2\" >$360</td>\n",
       "    </tr>\n",
       "    <tr>\n",
       "      <th id=\"T_ca56e_level0_row2\" class=\"row_heading level0 row2\" >30</th>\n",
       "      <td id=\"T_ca56e_row2_col0\" class=\"data row2 col0\" >$420</td>\n",
       "      <td id=\"T_ca56e_row2_col1\" class=\"data row2 col1\" >$480</td>\n",
       "      <td id=\"T_ca56e_row2_col2\" class=\"data row2 col2\" >$540</td>\n",
       "    </tr>\n",
       "  </tbody>\n",
       "</table>\n"
      ],
      "text/plain": [
       "<IPython.core.display.HTML object>"
      ]
     },
     "metadata": {},
     "output_type": "display_data"
    },
    {
     "data": {
      "text/html": [
       "<h2>Result by x_2 vs. x_3</h2>"
      ],
      "text/plain": [
       "<IPython.core.display.HTML object>"
      ]
     },
     "metadata": {},
     "output_type": "display_data"
    },
    {
     "data": {
      "text/html": [
       "<style type=\"text/css\">\n",
       "#T_0b1b6_row0_col0 {\n",
       "  background-color: #a50026;\n",
       "  color: #f1f1f1;\n",
       "}\n",
       "#T_0b1b6_row0_col1 {\n",
       "  background-color: #bd1726;\n",
       "  color: #f1f1f1;\n",
       "}\n",
       "#T_0b1b6_row0_col2 {\n",
       "  background-color: #d62f27;\n",
       "  color: #f1f1f1;\n",
       "}\n",
       "#T_0b1b6_row1_col0 {\n",
       "  background-color: #fdc776;\n",
       "  color: #000000;\n",
       "}\n",
       "#T_0b1b6_row1_col1 {\n",
       "  background-color: #fff0a6;\n",
       "  color: #000000;\n",
       "}\n",
       "#T_0b1b6_row1_col2 {\n",
       "  background-color: #ecf7a6;\n",
       "  color: #000000;\n",
       "}\n",
       "#T_0b1b6_row2_col0 {\n",
       "  background-color: #a5d86a;\n",
       "  color: #000000;\n",
       "}\n",
       "#T_0b1b6_row2_col1 {\n",
       "  background-color: #3faa59;\n",
       "  color: #f1f1f1;\n",
       "}\n",
       "#T_0b1b6_row2_col2 {\n",
       "  background-color: #006837;\n",
       "  color: #f1f1f1;\n",
       "}\n",
       "</style>\n",
       "<table id=\"T_0b1b6_\">\n",
       "  <caption>Result - x_2 vs. x_3</caption>\n",
       "  <thead>\n",
       "    <tr>\n",
       "      <th class=\"blank level0\" >&nbsp;</th>\n",
       "      <th class=\"col_heading level0 col0\" >7</th>\n",
       "      <th class=\"col_heading level0 col1\" >8</th>\n",
       "      <th class=\"col_heading level0 col2\" >9</th>\n",
       "    </tr>\n",
       "    <tr>\n",
       "      <th class=\"index_name level0\" >x_2</th>\n",
       "      <th class=\"blank col0\" >&nbsp;</th>\n",
       "      <th class=\"blank col1\" >&nbsp;</th>\n",
       "      <th class=\"blank col2\" >&nbsp;</th>\n",
       "    </tr>\n",
       "  </thead>\n",
       "  <tbody>\n",
       "    <tr>\n",
       "      <th id=\"T_0b1b6_level0_row0\" class=\"row_heading level0 row0\" >1</th>\n",
       "      <td id=\"T_0b1b6_row0_col0\" class=\"data row0 col0\" >$140</td>\n",
       "      <td id=\"T_0b1b6_row0_col1\" class=\"data row0 col1\" >$160</td>\n",
       "      <td id=\"T_0b1b6_row0_col2\" class=\"data row0 col2\" >$180</td>\n",
       "    </tr>\n",
       "    <tr>\n",
       "      <th id=\"T_0b1b6_level0_row1\" class=\"row_heading level0 row1\" >2</th>\n",
       "      <td id=\"T_0b1b6_row1_col0\" class=\"data row1 col0\" >$280</td>\n",
       "      <td id=\"T_0b1b6_row1_col1\" class=\"data row1 col1\" >$320</td>\n",
       "      <td id=\"T_0b1b6_row1_col2\" class=\"data row1 col2\" >$360</td>\n",
       "    </tr>\n",
       "    <tr>\n",
       "      <th id=\"T_0b1b6_level0_row2\" class=\"row_heading level0 row2\" >3</th>\n",
       "      <td id=\"T_0b1b6_row2_col0\" class=\"data row2 col0\" >$420</td>\n",
       "      <td id=\"T_0b1b6_row2_col1\" class=\"data row2 col1\" >$480</td>\n",
       "      <td id=\"T_0b1b6_row2_col2\" class=\"data row2 col2\" >$540</td>\n",
       "    </tr>\n",
       "  </tbody>\n",
       "</table>\n"
      ],
      "text/plain": [
       "<IPython.core.display.HTML object>"
      ]
     },
     "metadata": {},
     "output_type": "display_data"
    }
   ],
   "source": [
    "styled_dict = sa.styled_dfs(num_fmt=\"${:,.0f}\")"
   ]
  }
 ],
 "metadata": {
  "interpreter": {
   "hash": "d16c49b1196e77c99acbf9c416ba3d74258d35d533967ba9ca8761b6b8909bf3"
  },
  "kernelspec": {
   "display_name": "Python 3.8.10 ('base')",
   "language": "python",
   "name": "python3"
  },
  "language_info": {
   "codemirror_mode": {
    "name": "ipython",
    "version": 3
   },
   "file_extension": ".py",
   "mimetype": "text/x-python",
   "name": "python",
   "nbconvert_exporter": "python",
   "pygments_lexer": "ipython3",
   "version": "3.8.10"
  },
  "orig_nbformat": 4
 },
 "nbformat": 4,
 "nbformat_minor": 2
}
