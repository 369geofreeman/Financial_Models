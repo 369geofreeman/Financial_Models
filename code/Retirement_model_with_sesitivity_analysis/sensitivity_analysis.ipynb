{
 "cells": [
  {
   "cell_type": "markdown",
   "metadata": {},
   "source": [
    "# Sentsitivity Analysis in Python\n",
    "\n",
    "This guide is organized in the following sections\n",
    "\n",
    "- Sensitivity Analysis Theory\n",
    "- The Hard Way\n",
    "- The Easy Way (use sensitivity package)"
   ]
  },
  {
   "cell_type": "markdown",
   "metadata": {},
   "source": [
    "## What is Sensitivity Analysis?\n",
    "\n",
    "Sensitivity analysis is the process of passing different inputs to a model to see how the outputs change. it differs from Monte Carlo Simulation in that no probability distributions are assigned to the inputs, and typically larger ranges of the inputs are chosen. the purpose of Sensitivity Analysis is to understand how the outputs change over the full range of possible inputs. Sentitivity Analysis does not derive any expected outcome or a probability distribution of outcomes, instead returning a range of possible output variables associated with each set of inputs.\n",
    "\n",
    "The general purpose for Sensitivity Analysis is as follows:\n",
    "\n",
    "For the model given by: \n",
    "$$y = f(x)$$\n",
    "$$X = [x_1,x_2,...x_n]$$\n",
    "\n",
    "Where:\n",
    "\n",
    "- $y$: Model output\n",
    "- $X$: Model input matrix\n",
    "- $x_i$: Value of $ith$ $x$ variable\n",
    "\n",
    "Following the following steps:\n",
    "\n",
    "- Choose a set of values for each $xi$\n",
    "- Take the cartesian product of these values as $[X_1, X_2, ..., X_n]$\n",
    "- For each $Xi$ calculate $yi = f(Xi)$\n",
    "- Store the values of $Xi$ mapped to $yi$\n",
    "- Visualise $yi$ versus $Xi$"
   ]
  },
  {
   "cell_type": "markdown",
   "metadata": {},
   "source": [
    "## How to do Sensitivity Analysis in Python?\n",
    "\n",
    "Abstract algorithms are great, but lets see the code that can make this happen. First we'll import pandas to use later and define a function which represents the model:"
   ]
  },
  {
   "cell_type": "code",
   "execution_count": 1,
   "metadata": {},
   "outputs": [],
   "source": [
    "import pandas as pd\n",
    "\n",
    "\n",
    "def my_model(x_1: int, x_2: int) -> float:\n",
    "    '''\n",
    "    Represents f from above\n",
    "    '''\n",
    "\n",
    "    return x_1 ** x_2"
   ]
  },
  {
   "cell_type": "code",
   "execution_count": 2,
   "metadata": {},
   "outputs": [
    {
     "data": {
      "text/plain": [
       "16"
      ]
     },
     "execution_count": 2,
     "metadata": {},
     "output_type": "execute_result"
    }
   ],
   "source": [
    "y = my_model(2, 4)\n",
    "y"
   ]
  },
  {
   "cell_type": "markdown",
   "metadata": {},
   "source": [
    "Now lets go step by step through the above algorithm. First let's choose a set of values for each $X_i$:"
   ]
  },
  {
   "cell_type": "code",
   "execution_count": 3,
   "metadata": {},
   "outputs": [],
   "source": [
    "x1_values = [10, 20, 30]\n",
    "x2_values = [1, 2, 3]"
   ]
  },
  {
   "cell_type": "code",
   "execution_count": null,
   "metadata": {},
   "outputs": [],
   "source": []
  }
 ],
 "metadata": {
  "interpreter": {
   "hash": "d16c49b1196e77c99acbf9c416ba3d74258d35d533967ba9ca8761b6b8909bf3"
  },
  "kernelspec": {
   "display_name": "Python 3.8.10 ('base')",
   "language": "python",
   "name": "python3"
  },
  "language_info": {
   "codemirror_mode": {
    "name": "ipython",
    "version": 3
   },
   "file_extension": ".py",
   "mimetype": "text/x-python",
   "name": "python",
   "nbconvert_exporter": "python",
   "pygments_lexer": "ipython3",
   "version": "3.8.10"
  },
  "orig_nbformat": 4
 },
 "nbformat": 4,
 "nbformat_minor": 2
}
