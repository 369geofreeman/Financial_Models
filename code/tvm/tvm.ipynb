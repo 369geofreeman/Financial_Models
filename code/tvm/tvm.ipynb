{
 "cells": [
  {
   "cell_type": "markdown",
   "metadata": {},
   "source": [
    "## Machines Manufacturing Captal Budgeting Model\n",
    "\n",
    "\n",
    "- [**Overview**](#Overview):: Brief description of the problem and the model\n",
    "- [**Setup**](#Setup): Runs any imports and other setup\n",
    "- [**Inputs**](#Inputs): Defines the inputs for the model\n",
    "- [**Machines Output**](#machine-output): Determining the output of a machine and the output for multiple machines\n",
    "- [**Demand**](#demand): Determines the number of units demanded per year, based on the number of advertising years\n",
    "- [**Cash Flows**](#cash-flows): Combines the machines output and demand to determine the quantity transacted each year. Then uses this information as well as phone prices and costs, machine scrap values, and machine/advertising costs to determine the cash flows in each year.\n",
    "- [**NPV**](#npv): Calculates a net present value (NPV) from the cash flows.\n",
    "- [**Final Outputs**](#final-outputs): Shows the final output cash flows and NPV with formating.\n",
    "\n",
    "## Overview\n",
    "\n",
    "\n",
    "### The Problem\n",
    "\n",
    "You work for a new startup that is trying to manufacture phones. You are tasked with building a model which will help determine how many machines to invest in and how much to spend on marketing. Each machine produces $n_{output}$ phones per year. Each phone sells for $P_{phone}$ and costs $c_{phone}$ in variable costs to produce. After  years, the machine can no longer produce output, but may be scrapped for $p_{scrap}$. The machine will not be replaced, so you may end up with zero total output before your model time period ends.\n",
    "\n",
    "Equity investment is limited, so in each year you can spend $c_{machine}$ to either buy a machine or buy advertisements. In the first year you must buy a machine. Any other machine purchases must be made one after another (advertising can only begin after machine buying is done). Demand for your phones starts at $d_1$. Each time you advertise, demand increases by $g_d$%. The prevailing market interest rate is $r$.\n",
    "\n",
    "**Notes**\n",
    "\n",
    "- Model is limited to 20 years and a maximum of 5 machines.\n",
    "- For simplicity, assume that  is paid in every year, even after all machines have shut down.\n",
    "- Ensure that you can change the inputs and the outputs change as expected.\n",
    "- For simplicity, assume that fractional phones can be sold, you do not need to round the quantity transacted."
   ]
  },
  {
   "cell_type": "markdown",
   "metadata": {},
   "source": [
    "## Setup\n",
    "\n",
    "Setup for the later calculations are here. The necessary packages are imported."
   ]
  },
  {
   "cell_type": "code",
   "execution_count": 35,
   "metadata": {},
   "outputs": [],
   "source": [
    "from dataclasses import dataclass\n",
    "import numpy_financial as npf\n",
    "import itertools"
   ]
  },
  {
   "cell_type": "markdown",
   "metadata": {},
   "source": [
    "## Inputs\n",
    "\n",
    "All of the inputs for the model are defined here. A class is constructed to manage the data, and an instance of the class containing the default inputs is created."
   ]
  },
  {
   "cell_type": "code",
   "execution_count": 20,
   "metadata": {},
   "outputs": [
    {
     "data": {
      "text/plain": [
       "ModelInputs(n_phones=100000, price_scrap=50000, price_phone=500, cost_machine_adv=1000000, costs_phone=250, n_life=10, n_machines=5, d_1=100000, g_d=0.2, max_year=20, interest=0.05, elasticity=100, demand_constant=300000)"
      ]
     },
     "execution_count": 20,
     "metadata": {},
     "output_type": "execute_result"
    }
   ],
   "source": [
    "@dataclass\n",
    "class ModelInputs:\n",
    "    n_phones: float = 100000\n",
    "    price_scrap: float = 50000\n",
    "    price_phone: float = 500\n",
    "    cost_machine_adv: float = 1000000\n",
    "    costs_phone: float = 250\n",
    "    n_life: int = 10\n",
    "    n_machines: int = 5\n",
    "    d_1: float = 100000\n",
    "    g_d: float = 0.2\n",
    "    max_year: float = 20\n",
    "    interest: float = 0.05\n",
    "        \n",
    "    # Inputs for bonus problem\n",
    "    elasticity: float = 100\n",
    "    demand_constant: float = 300000\n",
    "        \n",
    "model_data = ModelInputs()\n",
    "data = model_data\n",
    "model_data"
   ]
  },
  {
   "cell_type": "markdown",
   "metadata": {},
   "source": [
    "We will create several functions to solve this problem, this will help to solve similar projects with little changes instead of having to hard-code each time we want to solve the project. This will allow us to add more analysis later for the project."
   ]
  },
  {
   "cell_type": "markdown",
   "metadata": {},
   "source": [
    "## Machine Outputs\n",
    "\n",
    "The first set of functions will be related to the enterprise machines.\n",
    "\n",
    "They will serve to determine:\n",
    "\n",
    "- Machines bought per year\n",
    "- Number of working machines per year\n",
    "- Broken machines per year\n",
    "- Scrap value of a broken machine per year"
   ]
  },
  {
   "cell_type": "code",
   "execution_count": 21,
   "metadata": {},
   "outputs": [],
   "source": [
    "def machines_bought_per_year(data: ModelInputs):\n",
    "    '''\n",
    "    Creates a list of booleans when a machine is bought, it will be true for the first years according \n",
    "    to the number of machines up to the last year of the model.\n",
    "    '''\n",
    "    years = list(range(1, data.max_year + 1))\n",
    "    buy_machine = []\n",
    "    for year in years:\n",
    "            # This will create a list of booleans when a machine is bought\n",
    "            if year <= data.n_machines:\n",
    "                buy_machine.append(True)\n",
    "            else:\n",
    "                buy_machine.append(False)\n",
    "    return buy_machine"
   ]
  },
  {
   "cell_type": "code",
   "execution_count": 22,
   "metadata": {},
   "outputs": [],
   "source": [
    "def broken_machines_per_year(data: ModelInputs):\n",
    "    '''\n",
    "    Creates a list of booleans when a machine breakes down, it will be true after each machine bought\n",
    "    ends the years of life (given in model inputs)\n",
    "    '''\n",
    "    # This creates a list of booleans when a machine breaks down\n",
    "    years = list(range(1, data.max_year + 1))\n",
    "    broken_machine = []\n",
    "    for year in years:\n",
    "        if data.n_life % year == data.n_life and year <= (data.n_machines + data.n_life):\n",
    "            broken_machine.append(True)\n",
    "        else:\n",
    "            broken_machine.append(False)\n",
    "    return broken_machine"
   ]
  },
  {
   "cell_type": "code",
   "execution_count": 23,
   "metadata": {},
   "outputs": [],
   "source": [
    "def working_machines_per_year():\n",
    "    '''\n",
    "    This will create a list of ints when a machine is bought, when a machine\n",
    "    breaks down and when none of these happens at the same time (1, -1, 0), respectevely\n",
    "    '''\n",
    "    working_machine = []\n",
    "    machines_bought = machines_bought_per_year(model_data)\n",
    "    broken_machines = broken_machines_per_year(model_data)\n",
    "    for i, j in zip(machines_bought, broken_machines):\n",
    "        if i == True and j == False:\n",
    "            working_machine.append(1)\n",
    "        elif i == False and j == True:\n",
    "            working_machine.append(-1)\n",
    "        else:\n",
    "            working_machine.append(0)\n",
    "    working_machine = list(itertools.accumulate(working_machine))\n",
    "    return working_machine"
   ]
  },
  {
   "cell_type": "code",
   "execution_count": 24,
   "metadata": {},
   "outputs": [],
   "source": [
    "def scrap_value_per_year(data: ModelInputs):\n",
    "    '''\n",
    "    This function returns the scrap value per year, will only return a value when a machine\n",
    "    breakes down\n",
    "    '''\n",
    "    scrap_value = []\n",
    "    broken_machines = broken_machines_per_year(data)\n",
    "    for i in broken_machines:\n",
    "        if i == True:\n",
    "            scrap_value.append(data.price_scrap)\n",
    "        elif i == False:\n",
    "            scrap_value.append(0)\n",
    "    return scrap_value"
   ]
  },
  {
   "cell_type": "markdown",
   "metadata": {},
   "source": [
    "## Demand\n",
    "\n",
    "Now that we have the information for all the machines, we can start to look at the demand of phones, which will increase after all machines are bought since the company will start to invest in advertisement.\n",
    "\n",
    "With that in mind, we can get the number of phones sold per year, recall that for simplicity of this project, fractional phones can be sold."
   ]
  },
  {
   "cell_type": "code",
   "execution_count": 25,
   "metadata": {},
   "outputs": [],
   "source": [
    "def demand_of_phones(data: ModelInputs):\n",
    "    '''\n",
    "    This function creates a list of the demanded phones, will start increasing after all machines are bought\n",
    "    '''\n",
    "    demand = []\n",
    "    machines_bought = machines_bought_per_year(data)\n",
    "    for i in machines_bought:\n",
    "        if i == True:\n",
    "            demand.append(data.d_1)\n",
    "        elif i == False:\n",
    "            demand.append(demand[-1] * (1 + data.g_d))\n",
    "    return demand"
   ]
  },
  {
   "cell_type": "code",
   "execution_count": 26,
   "metadata": {},
   "outputs": [],
   "source": [
    "def phones_sold_per_year(data: ModelInputs):\n",
    "    '''\n",
    "    This function creates the number of phones produced depending on the number\n",
    "    of working machines, then it returns phones sold according to the demand \n",
    "    per year\n",
    "    '''\n",
    "    working_machines = working_machines_per_year()\n",
    "    phones_produced = [i * data.n_phones for i in working_machines]\n",
    "    demand = demand_of_phones(data)\n",
    "    phones_sold = []\n",
    "    for p, d in zip(phones_produced, demand):\n",
    "        if p >= d:\n",
    "            phones_sold.append(d)\n",
    "        else:\n",
    "            phones_sold.append(p)\n",
    "    return phones_sold"
   ]
  },
  {
   "cell_type": "markdown",
   "metadata": {},
   "source": [
    "Numer of phones sold per year"
   ]
  },
  {
   "cell_type": "code",
   "execution_count": 27,
   "metadata": {},
   "outputs": [
    {
     "data": {
      "text/plain": [
       "[100000,\n",
       " 100000,\n",
       " 100000,\n",
       " 100000,\n",
       " 100000,\n",
       " 120000.0,\n",
       " 144000.0,\n",
       " 172800.0,\n",
       " 207360.0,\n",
       " 248832.0,\n",
       " 298598.39999999997,\n",
       " 300000,\n",
       " 200000,\n",
       " 100000,\n",
       " 0,\n",
       " 0,\n",
       " 0,\n",
       " 0,\n",
       " 0,\n",
       " 0]"
      ]
     },
     "execution_count": 27,
     "metadata": {},
     "output_type": "execute_result"
    }
   ],
   "source": [
    "phones_sold_per_year(model_data)"
   ]
  },
  {
   "cell_type": "markdown",
   "metadata": {},
   "source": [
    "## Cash Flows\n",
    "\n",
    "We now have all the necessary information to get the cash flows for the company"
   ]
  },
  {
   "cell_type": "code",
   "execution_count": 30,
   "metadata": {},
   "outputs": [],
   "source": [
    "def cash_flows_per_year(data: ModelInputs):  \n",
    "    '''\n",
    "    This function takes the inputs of the class and returns\n",
    "    the cash flows of the project\n",
    "    '''\n",
    "    revenues = []\n",
    "    money_in = []\n",
    "    cogs = []\n",
    "    money_out = []\n",
    "    phones = phones_sold_per_year(data)\n",
    "    scrap = scrap_value_per_year(data)\n",
    "    \n",
    "    # This creates a list of revenues, which multiplies each number of phones\n",
    "    # sold by year by the price given in the class\n",
    "    revenues = [i * data.price_phone for i in phones]\n",
    "    \n",
    "    # This creates a list of cogs, which multiplies each number of phones\n",
    "    # sold by year by the variable cost per phone given in the class\n",
    "    cogs = [i * data.costs_phone for i in phones]\n",
    "    \n",
    "    # This creates a list of the revenues plus the scrap value of the machines per year\n",
    "    money_in = [x + y for x, y in zip(revenues, scrap)]\n",
    "    \n",
    "    # This creates a list of cogs plus cash spent per year\n",
    "    money_out = [i + data.cost_machine_adv for i in cogs]\n",
    "    \n",
    "    # The money-in minus the money-out of each year will be our cash flow\n",
    "    cash_flows = [x - y for x, y in zip(money_in, money_out)]\n",
    "    return cash_flows"
   ]
  },
  {
   "cell_type": "code",
   "execution_count": 31,
   "metadata": {},
   "outputs": [
    {
     "data": {
      "text/plain": [
       "[24000000,\n",
       " 24000000,\n",
       " 24000000,\n",
       " 24000000,\n",
       " 24000000,\n",
       " 29000000.0,\n",
       " 35000000.0,\n",
       " 42200000.0,\n",
       " 50840000.0,\n",
       " 61208000.0,\n",
       " 73699599.99999999,\n",
       " 74050000,\n",
       " 49050000,\n",
       " 24050000,\n",
       " -950000,\n",
       " -1000000,\n",
       " -1000000,\n",
       " -1000000,\n",
       " -1000000,\n",
       " -1000000]"
      ]
     },
     "execution_count": 31,
     "metadata": {},
     "output_type": "execute_result"
    }
   ],
   "source": [
    "cash_flows_per_year(model_data)"
   ]
  },
  {
   "cell_type": "markdown",
   "metadata": {},
   "source": [
    "## NPV\n",
    "\n",
    "This section determines the NPV of the project with the current inputs. This is the main output from the model."
   ]
  },
  {
   "cell_type": "code",
   "execution_count": 32,
   "metadata": {},
   "outputs": [],
   "source": [
    "def model_npv(data: ModelInputs):\n",
    "    '''\n",
    "    Determines the NPV of the entire phone manufacturing capital budget problem.\n",
    "    Uses the cash flows from cash_flows_per_year and calculates the NPV from them\n",
    "    '''\n",
    "    # numpy NPV assumes first year is zero, we don't have a year zero so add a zero cash flow\n",
    "    cf = cash_flows_per_year(data)\n",
    "    all_cash_flows = [0] + cf\n",
    "    npv = npf.npv(data.interest, all_cash_flows)\n",
    "    return npv"
   ]
  },
  {
   "cell_type": "code",
   "execution_count": 33,
   "metadata": {},
   "outputs": [
    {
     "data": {
      "text/plain": [
       "369276542.47415346"
      ]
     },
     "execution_count": 33,
     "metadata": {},
     "output_type": "execute_result"
    }
   ],
   "source": [
    "npv = model_npv(model_data)\n",
    "npv"
   ]
  },
  {
   "cell_type": "markdown",
   "metadata": {},
   "source": [
    "## Final Outputs\n",
    "\n",
    "We have calculated all the cash flows for the years and the corresponding net present value, just to make it more readable, we will format the answers."
   ]
  },
  {
   "cell_type": "code",
   "execution_count": 34,
   "metadata": {},
   "outputs": [
    {
     "name": "stdout",
     "output_type": "stream",
     "text": [
      "Cash Flows:\n",
      "Year 1: $24,000,000\n",
      "Year 2: $24,000,000\n",
      "Year 3: $24,000,000\n",
      "Year 4: $24,000,000\n",
      "Year 5: $24,000,000\n",
      "Year 6: $29,000,000\n",
      "Year 7: $35,000,000\n",
      "Year 8: $42,200,000\n",
      "Year 9: $50,840,000\n",
      "Year 10: $61,208,000\n",
      "Year 11: $73,699,600\n",
      "Year 12: $74,050,000\n",
      "Year 13: $49,050,000\n",
      "Year 14: $24,050,000\n",
      "Year 15: $-950,000\n",
      "Year 16: $-1,000,000\n",
      "Year 17: $-1,000,000\n",
      "Year 18: $-1,000,000\n",
      "Year 19: $-1,000,000\n",
      "Year 20: $-1,000,000\n",
      "\n",
      "\n",
      "NPV: $369,276,542\n"
     ]
    }
   ],
   "source": [
    "formatted_cash_flows = [f'Year {i + 1}: ${cf:,.0f}' for i, cf in enumerate(cash_flows_per_year(model_data))]\n",
    "print('Cash Flows:\\n' + '\\n'.join(formatted_cash_flows))\n",
    "print(f'\\n\\nNPV: ${npv:,.0f}')"
   ]
  }
 ],
 "metadata": {
  "interpreter": {
   "hash": "d16c49b1196e77c99acbf9c416ba3d74258d35d533967ba9ca8761b6b8909bf3"
  },
  "kernelspec": {
   "display_name": "Python 3.8.10 ('base')",
   "language": "python",
   "name": "python3"
  },
  "language_info": {
   "codemirror_mode": {
    "name": "ipython",
    "version": 3
   },
   "file_extension": ".py",
   "mimetype": "text/x-python",
   "name": "python",
   "nbconvert_exporter": "python",
   "pygments_lexer": "ipython3",
   "version": "3.8.10"
  }
 },
 "nbformat": 4,
 "nbformat_minor": 4
}
